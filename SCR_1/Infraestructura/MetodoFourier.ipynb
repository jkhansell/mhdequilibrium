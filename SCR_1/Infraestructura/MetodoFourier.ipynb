{
 "cells": [
  {
   "cell_type": "code",
   "execution_count": 35,
   "metadata": {
    "id": "s_ob43sRfyqp"
   },
   "outputs": [],
   "source": [
    "import numpy as np\n",
    "import matplotlib.pyplot as plt\n",
    "import os"
   ]
  },
  {
   "cell_type": "markdown",
   "metadata": {
    "id": "2FZ8CtYLNeQn"
   },
   "source": [
    "# Ajuste de superficies de Poincaré utilizando Series de Fourier. \n",
    "\n",
    "Se utiliza el método propuesto en el artículo \"*Experimental and numerical study of error fields in the CNT stellarator*\", DOI:10.1088/0741-3335/58/7/074002. \n",
    "\n",
    "En este artículo se debe realizar una parametrización de las secciones de Poincaré debido a que estas son las bases para el cálculo de errores entre la configuración experimental de las bobinas, y el modelo teórico que para el caso SCR-1 es el módulo BS-SOLCTRA.\n",
    "\n",
    "El modelo utilizado se basa en realizar un ajuste de la superficie de Poincaré a ciertos parámetros discretizados $X$, los cuales son los coeficientes de una combinación lineal de funciones ortogonales. \n",
    "\n",
    "Para una superficie de flujo caracterizada por un $\\rho$ arbitrario, se tiene que la expansión trignométrica que la caracteriza está dada por: \n",
    "\n",
    "$$R^{\\rho}(\\theta)=R_{0}^{\\rho}+\\sum_{m=1}^MR_{cm}^{\\rho}\\cos(m\\theta)+\\sum_{m=1}^MR_{sm}^{\\rho}\\sin(m\\theta)$$\n",
    "\n",
    "$$Z^{\\rho}(\\theta)=Z_0^{\\rho}+\\sum_{m=1}^MZ_{cm}^{\\rho}\\cos(m\\theta)+\\sum_{m=1}^MZ_{sm}^{\\rho}\\sin(m\\theta)$$\n",
    "\n",
    "El cálculo de estos parámetros se realiza por medio de el análisis de Fourier, con lo cual para un conjunto de datos discretos $y_i$ en un intervalo de [a,b] que en este caso se tomará por simplicidad el intervalo [0,2$\\pi$], se tiene que una función que aproxima estos datos por medio de mínimos cuadrados es:\n",
    "\n",
    "$$f(x)=\\frac{1}{2}A_0+\\sum_{k=1}^\\infty A_n\\cos(kx)+\\sum_{k=1}^\\infty B_n\\sin(kx)$$\n",
    "\n",
    "Donde los coeficientes $A_n, B_n$ de la serie están dados por: \n",
    "\n",
    "$$A_n=\\frac{1}{\\pi}\\int_0^{2\\pi}f(x)\\cos(nx)dx$$\n",
    "$$B_n=\\frac{1}{\\pi}\\int_0^{2\\pi}f(x)\\sin(nx)dx$$\n",
    " \n",
    "La implementación para la serie de datos discretizados se da a continuación:"
   ]
  },
  {
   "cell_type": "code",
   "execution_count": 62,
   "metadata": {
    "id": "Mme9fsQqpmkr"
   },
   "outputs": [],
   "source": [
    "def initialize_data(filename, angle_cut):\n",
    "\n",
    "    dphi = 0.015\n",
    "    phi_up = angle_cut + dphi/2\n",
    "    phi_down = angle_cut - dphi/2\n",
    "    R0 = 0.2477 \n",
    " \n",
    "    data = np.loadtxt(filename, dtype=float, skiprows=2, delimiter='\\t')\n",
    "\n",
    "    boolarr = np.logical_and(\n",
    "                    data[:,1] < phi_up,\n",
    "                    data[:,1] > phi_down)\n",
    "    \n",
    "    pos = np.where(boolarr)[0]\n",
    "    data = data[pos]\n",
    "    \n",
    "    rtor = data[:,0]\n",
    "    thetator = data[:,2]\n",
    "    phi = data[:,1]\n",
    "    R = R0+np.multiply(rtor,np.cos(thetator))\n",
    "    Z = np.multiply(rtor,np.sin(thetator))\n",
    "    B = data[:,3]\n",
    "    return np.array([R, Z, thetator, rtor, phi, B])"
   ]
  },
  {
   "cell_type": "code",
   "execution_count": 63,
   "metadata": {
    "id": "6CzpJAS2v0GZ"
   },
   "outputs": [],
   "source": [
    "datos_fourier = initialize_data(\"torpath0029.txt\",0)"
   ]
  },
  {
   "cell_type": "code",
   "execution_count": 64,
   "metadata": {
    "id": "6nc-76LcGn0n"
   },
   "outputs": [],
   "source": [
    "rdata, zdata, theta,*_ =  datos_fourier\n",
    "#plt.scatter(rdata, zdata)\n",
    "def numerical_fit_data(theta, m):\n",
    "        \n",
    "    m_vect = np.arange(m+1)\n",
    "    \n",
    "    cosmat = np.cos(np.einsum('i,j', m_vect, theta))\n",
    "    sinmat = np.sin(np.einsum('i,j', m_vect, theta))\n",
    "    \n",
    "    X = np.array([cosmat, sinmat])\n",
    "\n",
    "    return X, m\n",
    "\n",
    "X, m = numerical_fit_data(theta, 14)\n",
    "\n",
    "def square_error(par, ser, data, m):\n",
    "    \n",
    "    param = np.array(par).reshape(2, m+1)\n",
    "    dy = (1/len(data))*(data - np.einsum('ij, ijk -> k', param, ser))**2\n",
    "    \n",
    "    return np.sum(dy)\n",
    "\n"
   ]
  },
  {
   "cell_type": "code",
   "execution_count": 65,
   "metadata": {
    "id": "1X0XRc-_gNYJ"
   },
   "outputs": [],
   "source": [
    "from scipy.optimize import minimize\n",
    "\n",
    "def optim_params(data, m):\n",
    "    \n",
    "    rdata, zdata, theta,*_ =  data\n",
    "    X, m = numerical_fit_data(theta, m)\n",
    "    pa = np.random.rand(2, m+1)\n",
    "    resR = minimize(square_error, pa, args = (X, rdata, m), method='BFGS', tol=1e-6)\n",
    "    resZ = minimize(square_error, pa, args = (X, zdata, m), method='BFGS', tol=1e-6)\n",
    "    A = resR.x.reshape(2, m+1)\n",
    "    B = resZ.x.reshape(2, m+1)\n",
    "    \n",
    "    return A, B"
   ]
  },
  {
   "cell_type": "code",
   "execution_count": 66,
   "metadata": {
    "id": "maY1qISEkQ2S"
   },
   "outputs": [],
   "source": [
    "A, B = optim_params(datos_fourier, 14)"
   ]
  },
  {
   "cell_type": "code",
   "execution_count": 67,
   "metadata": {},
   "outputs": [],
   "source": [
    "R = np.einsum('ij, ijk -> k', A, X)\n",
    "Z = np.einsum('ij, ijk -> k', B, X)"
   ]
  },
  {
   "cell_type": "markdown",
   "metadata": {
    "id": "NnY3WIbwf11i"
   },
   "source": [
    "### Cálculo del área a partir de la función ajustada\n",
    "\n",
    "Para el cálculo del área de las superficies se utilizó el teorema de Stokes. Con la siguiente formulación: \n",
    "\n",
    "$$A(r)=-\\frac{1}{2}r\\times B\\rightarrow\\nabla\\times A=B$$\n",
    "\n",
    "Suponiendo $B$ constante se tiene que, \n",
    "\n",
    "$$B·S=\\int_{\\Omega}B·dA=\\oint_{\\partial \\Omega}A·dr$$\n",
    "\n",
    "$$=-\\frac{1}{2}\\oint_{\\partial \\Omega}(r\\times B)·dr=B·\\left(\\frac{1}{2}\\oint_{\\partial \\Omega}r\\times dr\\right)$$\n",
    "\n",
    "Donde $S$ es el vector de área de $\\Omega$. Ahora se escoge $B=\\hat{e}_i$\n",
    "\n",
    "$$S_{\\Omega}=\\int_{\\Omega}dA=\\frac{1}{2}\\oint_{\\partial \\Omega}r\\times dr$$\n",
    "\n",
    "Ahora bien, tratando con la siguiente imagen,  \n",
    "\n",
    "<img src=\"https://drive.google.com/uc?export=view&id=1LiMBm-OUkpx2qTWkg6nSK0gL3jjo9yjP\" width=\"500\">\n",
    "\n",
    "se toma el integrando de la siguiente manera,\n",
    "\n",
    "$$r = R(\\theta)\\hat{\\rho}+Z(\\theta)\\hat{k}$$\n",
    "\n",
    "$$dr = R'(\\theta)d\\theta\\hat{\\rho}+Z'(\\theta)d\\theta\\hat{k}$$\n",
    "\n",
    "Con esto, \n",
    "\n",
    "$$r\\times dr= \\begin{vmatrix}\n",
    "\\hat{\\rho} & \\hat{\\phi} & \\hat{k}\\\\\n",
    "R(\\theta) & 0 & Z(\\theta)\\\\\n",
    "R'(\\theta)d\\theta & 0 &Z'(\\theta)d\\theta\\\\\n",
    "\\end{vmatrix} = -(R(\\theta)Z'(\\theta)d\\theta-Z(\\theta)R'(\\theta)d\\theta)\\hat{\\phi}$$\n",
    "\n",
    "Entonces la integral tiene la forma, \n",
    "\n",
    "$$S=\\frac{1}{2}\\int_0^{2\\pi}-(R(\\theta)Z'(\\theta)d\\theta-Z(\\theta)R'(\\theta)d\\theta)\\hat{\\phi}$$\n",
    "\n",
    "Como solo se ocupa la magnitud se toma, \n",
    "\n",
    "$$S=\\frac{1}{2}\\int_0^{2\\pi}(R(\\theta)Z'(\\theta)-Z(\\theta)R'(\\theta))d\\theta$$\n",
    "\n",
    "\n"
   ]
  },
  {
   "cell_type": "code",
   "execution_count": 68,
   "metadata": {
    "id": "osXI1bQWtmXB",
    "scrolled": false
   },
   "outputs": [],
   "source": [
    "def vects(m, N):\n",
    "    t = np.linspace(0, 2*np.pi, num=200)\n",
    "    mvect = np.arange(m+1)\n",
    "    cosvect = np.cos(np.einsum('i,k', mvect, t))\n",
    "    sinvect = np.sin(np.einsum('i,k', mvect, t))\n",
    "    X = np.array([cosvect, sinvect])\n",
    "    dX = np.array([sinvect, cosvect])\n",
    "    return X, dX\n",
    "\n",
    "\n",
    "X, dX = vects(m, 200)\n",
    "\n",
    "\n",
    "def derivatives(A, B, m, X, dX):\n",
    "    one = np.ones(m+1)\n",
    "    R = np.einsum('ij, ijk->k', A, X)\n",
    "    Z = np.einsum('ij, ijk->k', B, X)\n",
    "    mvect = np.arange(m+1)\n",
    "    dRdTcoefs = np.zeros((2, m+1))\n",
    "    dZdTcoefs = np.zeros((2, m+1))\n",
    "    \n",
    "    for j in range(m+1): \n",
    "\n",
    "        dRdTcoefs[:,j] = -A[:,j]*j\n",
    "        dZdTcoefs[:,j] = B[:,j]*j\n",
    "    \n",
    "    dRdT = np.einsum('ij,ijk->k', dRdTcoefs, dX)\n",
    "    dZdT = np.einsum('ij,ijk->k', dZdTcoefs, dX)\n",
    "    \n",
    "    return R, Z, dRdT, dZdT\n",
    "\n",
    "R, Z, dRdT, dZdT = derivatives(A, B, m, X, dX)"
   ]
  },
  {
   "cell_type": "code",
   "execution_count": 69,
   "metadata": {
    "colab": {
     "base_uri": "https://localhost:8080/"
    },
    "id": "pZ4eeAuFtl_e",
    "outputId": "fa577cd5-a369-41c7-c6fe-cfff6c06b97b"
   },
   "outputs": [
    {
     "name": "stdout",
     "output_type": "stream",
     "text": [
      "Area transversal: 0.004536\n"
     ]
    }
   ],
   "source": [
    "#Celda de prueba para el caso específico de un solo archivo. \n",
    "\n",
    "def area_calculation(R, dRdT, Z, dZdT, t):\n",
    "    \"\"\"\n",
    "    Se define el cálculo del área integrando la función propuesta anteriormente.\n",
    "\n",
    "    :param integrand: función, integrando del cálculo propuesto. \n",
    "    \"\"\"\n",
    "    \n",
    "    integrand = R*dZdT-Z*dRdT\n",
    "    \n",
    "    area = np.trapz(integrand, t)\n",
    "    \n",
    "    return area\n",
    "\n",
    "area = 0.5*area_calculation(R, dRdT, Z, dZdT, t)\n",
    "print(\"Area transversal: {:.6f}\".format(area))"
   ]
  },
  {
   "cell_type": "code",
   "execution_count": 70,
   "metadata": {},
   "outputs": [
    {
     "ename": "FileNotFoundError",
     "evalue": "[WinError 3] The system cannot find the path specified: '../Johan/SCR_1/Infraestructura'",
     "output_type": "error",
     "traceback": [
      "\u001b[1;31m---------------------------------------------------------------------------\u001b[0m",
      "\u001b[1;31mFileNotFoundError\u001b[0m                         Traceback (most recent call last)",
      "\u001b[1;32m<ipython-input-70-37b65a8ab86d>\u001b[0m in \u001b[0;36m<module>\u001b[1;34m\u001b[0m\n\u001b[1;32m----> 1\u001b[1;33m \u001b[0mos\u001b[0m\u001b[1;33m.\u001b[0m\u001b[0mchdir\u001b[0m\u001b[1;33m(\u001b[0m\u001b[1;34m'../Johan/SCR_1/Infraestructura'\u001b[0m\u001b[1;33m)\u001b[0m\u001b[1;33m\u001b[0m\u001b[1;33m\u001b[0m\u001b[0m\n\u001b[0m",
      "\u001b[1;31mFileNotFoundError\u001b[0m: [WinError 3] The system cannot find the path specified: '../Johan/SCR_1/Infraestructura'"
     ]
    }
   ],
   "source": [
    "os.chdir('../Johan/SCR_1/Infraestructura')"
   ]
  },
  {
   "cell_type": "code",
   "execution_count": 71,
   "metadata": {
    "colab": {
     "base_uri": "https://localhost:8080/",
     "height": 1000
    },
    "id": "4M83h9Da28RQ",
    "outputId": "7726f658-aaf3-4085-d6c7-ab70b7637d3a"
   },
   "outputs": [
    {
     "name": "stdout",
     "output_type": "stream",
     "text": [
      "Feedback: torpath0029.txt\n",
      "Feedback: torpath0030.txt\n",
      "Feedback: torpath0033.txt\n",
      "Feedback: torpath0035.txt\n",
      "Feedback: torpath0036.txt\n",
      "Feedback: torpath0037.txt\n",
      "Feedback: torpath0044.txt\n",
      "Feedback: torpath0045.txt\n",
      "Feedback: torpath0047.txt\n",
      "Feedback: torpath0048.txt\n",
      "Feedback: torpath0049.txt\n",
      "Feedback: torpath0051.txt\n",
      "Feedback: torpath0064.txt\n",
      "Feedback: torpath0068.txt\n",
      "Feedback: torpath0070.txt\n",
      "Feedback: torpath0072.txt\n",
      "Feedback: torpath0073.txt\n",
      "Feedback: torpath0074.txt\n",
      "171.21709823608398\n"
     ]
    }
   ],
   "source": [
    "import time\n",
    "def extractdirectorydata(dir_path, angle): \n",
    "    \"\"\"\n",
    "    Extrae los datos de todos las trayectorias competentes y realiza los ajustes con ellos de forma iterativa. \n",
    "\n",
    "    :param dir_path: path al directorio donde se encuentran los archivos de las trayectorias. \n",
    "    :param angle: ángulo en el cuál realizar el ajuste de la superficie de Poincaré.  \n",
    "\n",
    "    \"\"\"\n",
    "    main_dir = os.getcwd()\n",
    "    list_archiv = os.listdir(dir_path)\n",
    "    list_archiv.sort()\n",
    "    poincare_coords = []\n",
    "    os.chdir(dir_path)\n",
    "\n",
    "    for iArch in list_archiv:\n",
    "        poincare_coords.append(initialize_data(iArch, angle))\n",
    "        print(\"Feedback: \"+str(iArch))\n",
    "    \n",
    "    iRange = len(poincare_coords)\n",
    "    fourier_series_params = []\n",
    "\n",
    "    for i in range(iRange):\n",
    "        if len(poincare_coords[i]) != 0: \n",
    "            fourier_series_params.append(optim_params(poincare_coords[i], 16))\n",
    "        else: \n",
    "            continue\n",
    "    \n",
    "    os.chdir(main_dir)\n",
    "    return fourier_series_params\n",
    "    \n",
    "a = time.time()\n",
    "data = extractdirectorydata(\"../../../results_toroidal_cartesian\", 0)\n",
    "b = time.time()\n",
    "print(b-a)\n"
   ]
  },
  {
   "cell_type": "code",
   "execution_count": 77,
   "metadata": {
    "id": "H4Ui4EAC67e1"
   },
   "outputs": [
    {
     "data": {
      "image/png": "[encoded data removed]",
      "text/plain": [
       "<Figure size 432x288 with 1 Axes>"
      ]
     },
     "metadata": {
      "needs_background": "light"
     },
     "output_type": "display_data"
    }
   ],
   "source": [
    "def calculations(fourier_series_params, m):\n",
    "    \"\"\"\n",
    "    Realiza los cálculos de áreas y devuelve los coeficientes calculados para todos los archivos.\n",
    "\n",
    "    :param fourier_series_params: contiene las estructuras de resultados para cada fit. \n",
    "    :params R_c, R_s: parámetros definidos para el modelo.\n",
    "    \"\"\"\n",
    "    iRange = len(fourier_series_params)\n",
    "    areas, RcoefsC, RcoefsS, ZcoefsC, ZcoefsS = [], [], [], [], []\n",
    "\n",
    "    for i in range(iRange):\n",
    "\n",
    "        A, B = fourier_series_params[i]\n",
    "        \n",
    "\n",
    "        #cálculo análitico de las áreas\n",
    "        X, dX = vects(m, 200)\n",
    "        R, Z, dRdT, dZdT = derivatives(A, B, m, X, dX)\n",
    "        plt.plot(R,Z)\n",
    "        \n",
    "        area = 0.5*area_calculation(R, dRdT, Z, dZdT, t)\n",
    "\n",
    "        areas.append(area)\n",
    "        RcoefsC.append(A[0])\n",
    "        RcoefsS.append(A[1])\n",
    "        ZcoefsC.append(B[0])\n",
    "        ZcoefsS.append(B[1])\n",
    "\n",
    "    return areas, RcoefsC, RcoefsS, ZcoefsC, ZcoefsS\n",
    "\n",
    "A, RcC, RcS, ZcC, ZcS = calculations(data, 16)"
   ]
  },
  {
   "cell_type": "code",
   "execution_count": 78,
   "metadata": {
    "id": "His0FliV82st"
   },
   "outputs": [
    {
     "ename": "AttributeError",
     "evalue": "'numpy.ndarray' object has no attribute 'insert'",
     "output_type": "error",
     "traceback": [
      "\u001b[1;31m---------------------------------------------------------------------------\u001b[0m",
      "\u001b[1;31mAttributeError\u001b[0m                            Traceback (most recent call last)",
      "\u001b[1;32m<ipython-input-78-452dc6658d89>\u001b[0m in \u001b[0;36m<module>\u001b[1;34m\u001b[0m\n\u001b[0;32m     33\u001b[0m     \u001b[1;32mreturn\u001b[0m \u001b[0mnp\u001b[0m\u001b[1;33m.\u001b[0m\u001b[0marray\u001b[0m\u001b[1;33m(\u001b[0m\u001b[0mrhos\u001b[0m\u001b[1;33m)\u001b[0m\u001b[1;33m,\u001b[0m \u001b[0mnp\u001b[0m\u001b[1;33m.\u001b[0m\u001b[0marray\u001b[0m\u001b[1;33m(\u001b[0m\u001b[0mRS\u001b[0m\u001b[1;33m)\u001b[0m\u001b[1;33m,\u001b[0m \u001b[0mnp\u001b[0m\u001b[1;33m.\u001b[0m\u001b[0marray\u001b[0m\u001b[1;33m(\u001b[0m\u001b[0mRC\u001b[0m\u001b[1;33m)\u001b[0m\u001b[1;33m,\u001b[0m \u001b[0mnp\u001b[0m\u001b[1;33m.\u001b[0m\u001b[0marray\u001b[0m\u001b[1;33m(\u001b[0m\u001b[0mZS\u001b[0m\u001b[1;33m)\u001b[0m\u001b[1;33m,\u001b[0m \u001b[0mnp\u001b[0m\u001b[1;33m.\u001b[0m\u001b[0marray\u001b[0m\u001b[1;33m(\u001b[0m\u001b[0mZC\u001b[0m\u001b[1;33m)\u001b[0m\u001b[1;33m\u001b[0m\u001b[1;33m\u001b[0m\u001b[0m\n\u001b[0;32m     34\u001b[0m \u001b[1;33m\u001b[0m\u001b[0m\n\u001b[1;32m---> 35\u001b[1;33m \u001b[0mRho\u001b[0m\u001b[1;33m,\u001b[0m \u001b[0mrs\u001b[0m\u001b[1;33m,\u001b[0m \u001b[0mrc\u001b[0m\u001b[1;33m,\u001b[0m \u001b[0mzs\u001b[0m\u001b[1;33m,\u001b[0m \u001b[0mzc\u001b[0m \u001b[1;33m=\u001b[0m \u001b[0mmatrix_sorting\u001b[0m\u001b[1;33m(\u001b[0m\u001b[0mA\u001b[0m\u001b[1;33m,\u001b[0m \u001b[0mRcC\u001b[0m\u001b[1;33m,\u001b[0m \u001b[0mRcS\u001b[0m\u001b[1;33m,\u001b[0m \u001b[0mZcC\u001b[0m\u001b[1;33m,\u001b[0m \u001b[0mZcS\u001b[0m\u001b[1;33m)\u001b[0m\u001b[1;33m\u001b[0m\u001b[1;33m\u001b[0m\u001b[0m\n\u001b[0m\u001b[0;32m     36\u001b[0m \u001b[0mRho\u001b[0m\u001b[1;33m.\u001b[0m\u001b[0msort\u001b[0m\u001b[1;33m(\u001b[0m\u001b[0maxis\u001b[0m\u001b[1;33m=\u001b[0m\u001b[1;36m0\u001b[0m\u001b[1;33m)\u001b[0m\u001b[1;33m\u001b[0m\u001b[1;33m\u001b[0m\u001b[0m\n",
      "\u001b[1;32m<ipython-input-78-452dc6658d89>\u001b[0m in \u001b[0;36mmatrix_sorting\u001b[1;34m(A, RcC, RcS, ZcC, ZcS)\u001b[0m\n\u001b[0;32m     21\u001b[0m \u001b[1;33m\u001b[0m\u001b[0m\n\u001b[0;32m     22\u001b[0m     \u001b[1;32mfor\u001b[0m \u001b[0mi\u001b[0m \u001b[1;32min\u001b[0m \u001b[0mrange\u001b[0m\u001b[1;33m(\u001b[0m\u001b[0mlen\u001b[0m\u001b[1;33m(\u001b[0m\u001b[0mrhos\u001b[0m\u001b[1;33m)\u001b[0m\u001b[1;33m)\u001b[0m\u001b[1;33m:\u001b[0m\u001b[1;33m\u001b[0m\u001b[1;33m\u001b[0m\u001b[0m\n\u001b[1;32m---> 23\u001b[1;33m         \u001b[0mRS\u001b[0m\u001b[1;33m[\u001b[0m\u001b[0mi\u001b[0m\u001b[1;33m]\u001b[0m\u001b[1;33m.\u001b[0m\u001b[0minsert\u001b[0m\u001b[1;33m(\u001b[0m\u001b[1;36m0\u001b[0m\u001b[1;33m,\u001b[0m\u001b[0mrhos\u001b[0m\u001b[1;33m[\u001b[0m\u001b[0mi\u001b[0m\u001b[1;33m]\u001b[0m\u001b[1;33m)\u001b[0m\u001b[1;33m\u001b[0m\u001b[1;33m\u001b[0m\u001b[0m\n\u001b[0m\u001b[0;32m     24\u001b[0m         \u001b[0mRC\u001b[0m\u001b[1;33m[\u001b[0m\u001b[0mi\u001b[0m\u001b[1;33m]\u001b[0m\u001b[1;33m.\u001b[0m\u001b[0minsert\u001b[0m\u001b[1;33m(\u001b[0m\u001b[1;36m0\u001b[0m\u001b[1;33m,\u001b[0m\u001b[0mrhos\u001b[0m\u001b[1;33m[\u001b[0m\u001b[0mi\u001b[0m\u001b[1;33m]\u001b[0m\u001b[1;33m)\u001b[0m\u001b[1;33m\u001b[0m\u001b[1;33m\u001b[0m\u001b[0m\n\u001b[0;32m     25\u001b[0m         \u001b[0mZS\u001b[0m\u001b[1;33m[\u001b[0m\u001b[0mi\u001b[0m\u001b[1;33m]\u001b[0m\u001b[1;33m.\u001b[0m\u001b[0minsert\u001b[0m\u001b[1;33m(\u001b[0m\u001b[1;36m0\u001b[0m\u001b[1;33m,\u001b[0m\u001b[0mrhos\u001b[0m\u001b[1;33m[\u001b[0m\u001b[0mi\u001b[0m\u001b[1;33m]\u001b[0m\u001b[1;33m)\u001b[0m\u001b[1;33m\u001b[0m\u001b[1;33m\u001b[0m\u001b[0m\n",
      "\u001b[1;31mAttributeError\u001b[0m: 'numpy.ndarray' object has no attribute 'insert'"
     ]
    }
   ],
   "source": [
    "def matrix_sorting(A, RcC, RcS, ZcC, ZcS):\n",
    "    \n",
    "    \"\"\"\n",
    "    Ordena los coeficientes por tamaño de área, de menor a mayor. \n",
    "\n",
    "    :param A: vector de áreas calculado para cada superficie en el diagrama de Poincaré.\n",
    "    :params RcC|S, ZcC|S: vectores de coeficientes para las series de Fourier.\n",
    "    \"\"\"\n",
    "\n",
    "    RC = RcC\n",
    "    RS = RcS\n",
    "    ZC = ZcC\n",
    "    ZS = ZcS\n",
    "    \n",
    "    a = np.array(area)\n",
    "    rhos = np.sqrt(a/max(a))\n",
    "\n",
    "    for i in range(len(rhos)): \n",
    "        RS[i].insert(0,rhos[i])\n",
    "        RC[i].insert(0,rhos[i])\n",
    "        ZS[i].insert(0,rhos[i])\n",
    "        ZC[i].insert(0,rhos[i])\n",
    "\n",
    "    RS = sorted(RS,key=lambda x: x[0])\n",
    "    RC = sorted(RC,key=lambda x: x[0])\n",
    "    ZS = sorted(ZS,key=lambda x: x[0])\n",
    "    ZC = sorted(ZC,key=lambda x: x[0])\n",
    "\n",
    "    return np.array(rhos), np.array(RS), np.array(RC), np.array(ZS), np.array(ZC)\n",
    "\n",
    "Rho, rs, rc, zs, zc = matrix_sorting(A, RcC, RcS, ZcC, ZcS)\n",
    "Rho.sort(axis=0)"
   ]
  },
  {
   "cell_type": "markdown",
   "metadata": {
    "id": "AVKK_RDNHDOA"
   },
   "source": [
    "#### Base vectorial de $R(\\rho)$\n",
    "\n",
    "Se tiene que la base polinomial en la que cada $R_c(\\rho)$ puede ser expandido está dada por los polinomios $P_s(\\rho)$ que cumplen con el siguiente producto interno,\n",
    "\n",
    "$$\\int_0^1 P_i(\\rho)P_j(\\rho)d\\rho = \\delta_{ij}$$\n",
    "\n",
    "Donde $\\delta_{ij}$ es el delta de Kronecker. \n",
    "\n",
    "Para poder obtener la expansión, \n",
    "\n",
    "$$R_{c1}(\\rho)=R_{c10}P_0(\\rho)+R_{c11}P_1(\\rho)+···+R_{c1S}P_S(\\rho)$$\n",
    "\n",
    "Primero se necesita calcular los polinomios que forman esta base a partir de la base $\\varphi :\\left[1,\\rho, \\rho^2,...,\\rho^S\\right]$ por medio del proceso de ortonormalización de Gram-Schmidt. \n",
    "\n",
    "Para esto se tiene que,\n",
    "\n",
    "$$P_0(\\rho) = 1$$\n",
    "\n",
    "$$P_1(\\rho) = x - \\left<x|P_0\\right>P_0(\\rho),$$\n",
    "\n",
    "$$P_2(\\rho) = x^2 - \\left<x^2|P_0\\right>P_0(\\rho)-\\left<x^2|P_1\\right>P_1(\\rho),$$\n",
    "\n",
    "$$·$$\n",
    "$$·$$\n",
    "$$·$$\n",
    "\n",
    "$$P_S(\\rho) = x^S - \\left<x^S|P_0\\right>P_0(\\rho)-···-\\left<x^S|P_{s-1}\\right>P_{s-1}(\\rho),$$\n"
   ]
  },
  {
   "cell_type": "code",
   "execution_count": null,
   "metadata": {
    "id": "WGwLJ73NMdDF"
   },
   "outputs": [],
   "source": [
    "#from math import isclose\n",
    " \n",
    "def inner_product(f, g):\n",
    "    \"\"\"\n",
    "    Definición del producto interno del espacio vectorial formado por la base de polinomios propuesta \n",
    "    artículo mencionado. \n",
    "\n",
    "    :param f, g: funciones a evaluar. \n",
    "    \"\"\"\n",
    "    integrand = sympy.lambdify(x,f*g)\n",
    "    value, err = scipy.integrate.quad(integrand,0,1)\n",
    "    return [err, value]"
   ]
  },
  {
   "cell_type": "code",
   "execution_count": null,
   "metadata": {
    "colab": {
     "base_uri": "https://localhost:8080/"
    },
    "id": "_LOKzV0twYjk",
    "outputId": "dbff3913-5af1-4228-9272-7427bfbd90d4"
   },
   "outputs": [],
   "source": [
    "#Definición del set de funciones para el proceso de gram schmidt, en este caso son polinomios \n",
    "#de la forma x^n \n",
    " \n",
    "def gen_funcs(n):\n",
    "    \"\"\"\n",
    "    Genera la base polinomial x^n\n",
    "\n",
    "    :param n: último grado de la base polinomial.\n",
    "    \"\"\"\n",
    "    x = sympy.symbols('x')\n",
    " \n",
    "    functions = list()\n",
    "    for i in range(n):\n",
    "        functions.append(x**i)\n",
    "    \n",
    "    functions = np.array(functions)\n",
    " \n",
    "    return functions\n",
    " \n",
    "def GM_ortho(funcs):\n",
    "    \"\"\"\n",
    "    Define el proceso de Gram-Schmidt para transformar de una base V, a\n",
    "    una base ortonormal. \n",
    "\n",
    "    :param funcs: funciones base\n",
    "    \"\"\"\n",
    "    shp = len(funcs)\n",
    "    ortho_funcs = list()\n",
    "    phi = funcs[0]\n",
    "    ortho_funcs.append(phi)\n",
    " \n",
    "    for i in range(1,shp):\n",
    "        psi = funcs[i]\n",
    "        for j in ortho_funcs: \n",
    "            psi = psi - (inner_product(j,funcs[i])[1])*j\n",
    " \n",
    "            phi = psi/(inner_product(psi,psi)[1]**0.5)\n",
    "        ortho_funcs.append(phi)\n",
    " \n",
    "    return ortho_funcs\n",
    "\n",
    "funcsis = gen_funcs(8)\n",
    "orthofuncs = GM_ortho(funcsis)\n",
    " \n",
    "GM_ortho(funcsis)"
   ]
  },
  {
   "cell_type": "code",
   "execution_count": null,
   "metadata": {
    "colab": {
     "base_uri": "https://localhost:8080/"
    },
    "id": "qljGHOI6HYGj",
    "outputId": "7c574d69-4f58-42e1-de93-1301de474f64"
   },
   "outputs": [],
   "source": [
    "#ajuste de los coeficientes R y Z\n",
    "\n",
    "def mod_esp_poli(x,funcs):\n",
    "    \"\"\"\n",
    "    Se propone el modelo de combinación lineal para expresar una función f(x)\n",
    "    en términos de una rbase ortonormal. \n",
    "    :param x: variable symfit\n",
    "    :param funcs: funciones ortonormales \n",
    "    \"\"\"\n",
    "    n = len(funcs)\n",
    "    params = parameters(','.join(['O_{}'.format(i) for i in range(0, n+1)]))\n",
    "    model = sum(O_i * funcs_i for O_i, funcs_i in zip(params, funcs))\n",
    "\n",
    "    return model, params\n",
    "\n",
    "modelo, params = mod_esp_poli(x,orthofuncs)\n",
    "\n",
    "model_dict_2 = {y: modelo}\n",
    "\n",
    "print(model_dict_2)\n"
   ]
  },
  {
   "cell_type": "code",
   "execution_count": null,
   "metadata": {
    "id": "zDR_JWpfnVM2"
   },
   "outputs": [],
   "source": [
    "#Se realiza el mismo procedimiento de ajuste de datos que se realizó\n",
    "#anteriormente. \n",
    "crc = rc.T\n",
    "crs = rs.T\n",
    "czc = zc.T\n",
    "czs = zs.T\n",
    "\n",
    "def fit_coefs(cor,model): \n",
    "    \"\"\"\n",
    "    Ajuste de los datos de coeficientes con áreas\n",
    "    \n",
    "    \"\"\"\n",
    "    fits = list()\n",
    "    iRange = len(cor)\n",
    "    for i in range(1,iRange): \n",
    "        fit = Fit(model, x=cor[0],y=cor[i])\n",
    "        fit_result = fit.execute()\n",
    "        fits.append(fit_result)\n",
    "        #print(i)\n",
    "    return fits\n",
    "\n",
    "crcfits = fit_coefs(crc, model_dict_2)\n",
    "crsfits = fit_coefs(crs, model_dict_2)\n",
    "czcfits = fit_coefs(czc, model_dict_2)\n",
    "czsfits = fit_coefs(czs, model_dict_2)\n"
   ]
  },
  {
   "cell_type": "code",
   "execution_count": null,
   "metadata": {
    "id": "i7O4CgUjvgIN"
   },
   "outputs": [],
   "source": [
    "def retcoef_2(i,xfit, R_c): \n",
    "    \"\"\"\n",
    "\n",
    "    \"\"\"\n",
    "    newRcoef = list()\n",
    "    for r in range(len(R_c)):\n",
    "        for param in xfit[i].params.items():\n",
    "            if param[0] == str(R_c[r]):\n",
    "                newRcoef.append([str(R_c[r])+str(i),param[1]])\n",
    "            else:\n",
    "                continue\n",
    "\n",
    "    return newRcoef\n",
    "\n"
   ]
  },
  {
   "cell_type": "code",
   "execution_count": null,
   "metadata": {
    "colab": {
     "base_uri": "https://localhost:8080/",
     "height": 370
    },
    "id": "eYQN9AgqItka",
    "outputId": "40ec324e-2331-4763-9b72-f7268197d22f"
   },
   "outputs": [],
   "source": [
    "#Se propone el vector X que se utilizará después para el algoritmo de optimización\n",
    "\n",
    "def return_poly_coefs(rc,rs,zc,zs): \n",
    "    crc = rc.T\n",
    "    crs = rs.T\n",
    "    czc = zc.T\n",
    "    czs = zs.T\n",
    "    \n",
    "    x = sympy.symbols('x')\n",
    "    funcs = gen_funcs(8)\n",
    "    model, params = mod_esp_poli(x,funcs)\n",
    "    model_dict = {y: model}\n",
    "    crcfits = fit_coefs(crc, model_dict)\n",
    "    crsfits = fit_coefs(crs, model_dict)\n",
    "    czcfits = fit_coefs(czc, model_dict)\n",
    "    czsfits = fit_coefs(czs, model_dict)\n",
    "    iRange1 = len(crcfits)\n",
    "    iRange2 = len(crsfits)\n",
    "    rcr = list()\n",
    "    rsr = list()\n",
    "    zcr = list()\n",
    "    zsr = list()\n",
    "\n",
    "    for i in range(iRange1): \n",
    "        coefrc = retcoef_2(i,crcfits, params)\n",
    "        coefzc = retcoef_2(i,czcfits, params)\n",
    "        rcr.append(coefrc)\n",
    "        zcr.append(coefzc)\n",
    "    \n",
    "    for i in range(iRange2):\n",
    "        coefrs = retcoef_2(i,crsfits, params)\n",
    "        coefzs = retcoef_2(i,czsfits, params)\n",
    "        rsr.append(coefrs)\n",
    "        zsr.append(coefzs)\n",
    "\n",
    "    rcr = np.array(rcr)\n",
    "    rsr = np.array(rsr)\n",
    "    zcr = np.array(zcr)\n",
    "    zsr = np.array(zsr)\n",
    "            \n",
    "    X = rcr.T[1].astype(float)\n",
    "    X = np.append(X,rsr.T[1].astype(float))\n",
    "    X = np.append(X,zcr.T[1].astype(float))\n",
    "    X = np.append(X,zsr.T[1].astype(float))\n",
    "\n",
    "    return X\n",
    "\n",
    "X = return_poly_coefs(rc,rs,zc,zs)\n",
    "\n",
    "    "
   ]
  },
  {
   "cell_type": "markdown",
   "metadata": {
    "id": "rJqCrNsfXOQW"
   },
   "source": [
    "Ahora se propondrá el siguiente método para la optimización de estos parámetros. \n",
    "\n"
   ]
  },
  {
   "cell_type": "code",
   "execution_count": null,
   "metadata": {
    "colab": {
     "base_uri": "https://localhost:8080/"
    },
    "id": "FO2inRjwVVYN",
    "outputId": "2d78f9ab-f72b-450b-f21e-a5bb3b033d23"
   },
   "outputs": [],
   "source": [
    "print(X)"
   ]
  }
 ],
 "metadata": {
  "colab": {
   "collapsed_sections": [],
   "name": "MetodoFourier.ipynb",
   "provenance": []
  },
  "kernelspec": {
   "display_name": "Python 3",
   "language": "python",
   "name": "python3"
  },
  "language_info": {
   "codemirror_mode": {
    "name": "ipython",
    "version": 3
   },
   "file_extension": ".py",
   "mimetype": "text/x-python",
   "name": "python",
   "nbconvert_exporter": "python",
   "pygments_lexer": "ipython3",
   "version": "3.8.3"
  }
 },
 "nbformat": 4,
 "nbformat_minor": 1
}
