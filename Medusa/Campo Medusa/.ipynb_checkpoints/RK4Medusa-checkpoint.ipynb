{
 "cells": [
  {
   "cell_type": "code",
   "execution_count": null,
   "metadata": {},
   "outputs": [],
   "source": [
    "import Rk4 \n",
    "import read_coils as rc\n",
    "import plotly.graph_objects as go\n",
    "import matplotlib.pyplot as plt\n",
    "import numpy as np\n",
    "import imp\n",
    "import json\n",
    "import pandas as pd\n",
    "imp.reload(Rk4)"
   ]
  },
  {
   "cell_type": "code",
   "execution_count": null,
   "metadata": {},
   "outputs": [],
   "source": [
    "data = rc.read_coil('coils.MEDUSACR')\n",
    "print(data.shape)"
   ]
  },
  {
   "cell_type": "code",
   "execution_count": null,
   "metadata": {},
   "outputs": [],
   "source": [
    "def order(data):\n",
    "    x, y, z, *_ = data.T\n",
    "    \n",
    "    R = np.sqrt(x**2+y**2)\n",
    "    R0 = 0.5*(max(R)-min(R))+min(R)\n",
    "    phi = np.arctan2(y,x)\n",
    "\n",
    "    theta = np.arctan2(z, (R-R0))+np.pi\n",
    "    theta, ind = np.unique(theta,return_index=True)\n",
    "    data = data[ind]       \n",
    "    \n",
    "    last = data[0].copy()\n",
    "    last[3] = 0\n",
    "    \n",
    "    data = np.append(data, [last], axis=0)\n",
    "    return data\n"
   ]
  },
  {
   "cell_type": "code",
   "execution_count": null,
   "metadata": {},
   "outputs": [],
   "source": [
    "def order_coords(data):\n",
    "    data_temp = []\n",
    "    for i in range(len(data)):\n",
    "        dat = order(data[i])\n",
    "        data_temp.append(dat)\n",
    "    return np.array(data_temp)\n",
    "\n",
    "ordereddata = order_coords(data)\n",
    "ordereddata.T[0:3] *= 1e-3\n",
    "ordereddata.T[3] = 1e4"
   ]
  },
  {
   "cell_type": "code",
   "execution_count": null,
   "metadata": {},
   "outputs": [],
   "source": [
    "def carttocil2(data, C):\n",
    "    x, y, z, *_ = data.T\n",
    "    \n",
    "    R = np.sqrt(x**2+y**2)\n",
    "    phi = np.arctan2(y,x) + np.pi\n",
    "    cur = C*np.ones(len(x))\n",
    "    cur[-1] = 0\n",
    "\n",
    "    return np.array([R, phi, z, cur])"
   ]
  },
  {
   "cell_type": "code",
   "execution_count": null,
   "metadata": {},
   "outputs": [],
   "source": [
    "lis = ordereddata.tolist()\n",
    "with open(\"coilsmedusaordenadas.txt\", \"w+\") as f:\n",
    "    f.write(json.dumps(lis))"
   ]
  },
  {
   "cell_type": "code",
   "execution_count": null,
   "metadata": {},
   "outputs": [],
   "source": [
    "with open(\"coilsmedusaordenadas.txt\") as f:\n",
    "    datos=f.read()\n",
    "    arreglo =np.array(json.loads(datos))"
   ]
  },
  {
   "cell_type": "code",
   "execution_count": null,
   "metadata": {},
   "outputs": [],
   "source": [
    "def cilorder(data):\n",
    "    x, y, z, *_ = data.T\n",
    "    \n",
    "    R = np.sqrt(x**2+y**2)\n",
    "    phi = np.arctan2(y,x)+np.pi\n",
    "    ind = np.argsort(phi)\n",
    "    \n",
    "    data = data[ind]       \n",
    "    last = data[0].copy()\n",
    "    last[3] = 0\n",
    "    \n",
    "    data = np.append(data, [last], axis=0)\n",
    "    \n",
    "    return data\n",
    "\n",
    "Csup = pd.read_excel('CSup.xls')\n",
    "Cinf = pd.read_excel('CInf.xls')\n",
    "\n",
    "Csup = np.array(Csup)*1e-3\n",
    "Cinf = np.array(Cinf)*1e-3\n",
    "\n",
    "coorsup = np.zeros((Csup.shape[0],4))\n",
    "coorsup[:,0:3] = Csup\n",
    "\n",
    "coorinf = np.zeros((Cinf.shape[0],4))\n",
    "coorinf[:,0:3] = Cinf\n",
    "\n",
    "coorsup[:,3] = 1e3\n",
    "coorinf[:,3] = -1e3\n",
    "\n",
    "coorsup = cilorder(coorsup)\n",
    "coorinf = cilorder(coorinf)"
   ]
  },
  {
   "cell_type": "code",
   "execution_count": null,
   "metadata": {},
   "outputs": [],
   "source": [
    "coorsup.shape"
   ]
  },
  {
   "cell_type": "code",
   "execution_count": null,
   "metadata": {},
   "outputs": [],
   "source": [
    "efR = 0.185\n",
    "efI = 100\n",
    "efH = 0.181\n",
    "phi = np.linspace(0,2*np.pi,num=101)\n",
    "efcoorsup = np.zeros(coorsup.shape)\n",
    "efcoorinf = np.zeros(coorsup.shape)\n",
    "\n",
    "efcoorsup[:,0:2] = efR*np.array([np.cos(phi), np.sin(phi)]).T\n",
    "efcoorinf[:,0:2] = efR*np.array([np.cos(phi), np.sin(phi)]).T\n",
    "\n",
    "efcoorsup[:,2] = efH\n",
    "efcoorinf[:,2] = -efH\n",
    "\n",
    "efcoorsup[:,3] = efI\n",
    "efcoorinf[:,3] = -efI"
   ]
  },
  {
   "cell_type": "code",
   "execution_count": null,
   "metadata": {},
   "outputs": [],
   "source": [
    "VFcoils = np.array([coorsup,coorinf])\n",
    "EFcoils = np.array([efcoorsup, efcoorinf])"
   ]
  },
  {
   "cell_type": "code",
   "execution_count": null,
   "metadata": {},
   "outputs": [],
   "source": [
    "import cilcoilbiot as ccb\n",
    "imp.reload(ccb)"
   ]
  },
  {
   "cell_type": "code",
   "execution_count": null,
   "metadata": {},
   "outputs": [],
   "source": [
    "N = 50\n",
    "\n",
    "r = np.linspace(0.05, 0.35, num = N)\n",
    "z = np.linspace(-.15, .15, num = N)\n",
    "R, Z = np.meshgrid(r,z)\n",
    "B = np.zeros((N,N, 3))\n",
    "\n",
    "for i in range(N): \n",
    "    for j in range(N):\n",
    "        point = np.array([R[i,j], 0, Z[i,j]])\n",
    "        B[i,j] = ccb.biot(EFcoils, point)+ccb.biot(ordereddata, point)+ccb.biot(VFcoils, point)\n"
   ]
  },
  {
   "cell_type": "code",
   "execution_count": null,
   "metadata": {},
   "outputs": [],
   "source": [
    "plt.figure(figsize=(5,5), dpi=110)\n",
    "plt.axis(\"equal\")\n",
    "plt.streamplot(R, Z, B[:,:,0], B[:,:,2])\n",
    "plt.scatter([efR, efR],[efH,-efH])\n",
    "#plt.scatter([efR, efR],[efH,-efH])"
   ]
  },
  {
   "cell_type": "code",
   "execution_count": null,
   "metadata": {},
   "outputs": [],
   "source": [
    "layout = go.Layout(\n",
    "            scene=dict(\n",
    "                aspectmode='data'\n",
    "            ))\n",
    "fig = go.Figure(layout=layout)\n",
    "\n",
    "for i in ordereddata: \n",
    "    x, y, z, _= i.T\n",
    "    fig.add_trace(go.Scatter3d(x=x, y=y, z=z, \n",
    "                               line=dict(width=6),\n",
    "                               marker=dict(size=0)))\n",
    "    \n",
    "xcsup, ycsup, zcsup, *_ = coorsup.T\n",
    "xcinf, ycinf, zcinf, *_ = coorinf.T\n",
    "    \n",
    "xefcsup, yefcsup, zefcsup, *_ = efcoorsup.T\n",
    "xefcinf, yefcinf, zefcinf, *_ = efcoorinf.T\n",
    "\n",
    "\n",
    "fig.add_trace(go.Scatter3d(x=xcsup,y=ycsup,z=zcsup,\n",
    "                           line=dict(width=6),\n",
    "                           marker=dict(size=0)))\n",
    "fig.add_trace(go.Scatter3d(x=xcinf,y=ycinf,z=zcinf,\n",
    "                           line=dict(width=6),\n",
    "                           marker=dict(size=0)))\n",
    "fig.add_trace(go.Scatter3d(x=xefcsup,y=yefcsup,z=zefcsup,\n",
    "                           line=dict(width=6),\n",
    "                           marker=dict(size=0)))\n",
    "fig.add_trace(go.Scatter3d(x=xefcinf,y=yefcinf,z=zefcinf,\n",
    "                           line=dict(width=6),\n",
    "                           marker=dict(size=0)))\n",
    "\n",
    "fig.show()"
   ]
  },
  {
   "cell_type": "code",
   "execution_count": null,
   "metadata": {},
   "outputs": [],
   "source": [
    "#solenoid field integration\n",
    "\n",
    "def Br(theta, r, z, L, a, mi, n, i):\n",
    "    \n",
    "    C = -a*mi*n*i/(2*np.pi)\n",
    "    sqrt1 = 1/np.sqrt((z+L/2)**2+r**2+a**2-2*a*r*np.cos(theta))\n",
    "    sqrt2 = 1/np.sqrt((z-L/2)**2+r**2+a**2-2*a*r*np.cos(theta))\n",
    "    return C*np.cos(theta)*(sqrt1 - sqrt2)\n",
    "\n",
    "def Bz(theta, r, z, L, a, mi, n, i):\n",
    "    \n",
    "    C = a*mi*n*i/(2*np.pi)\n",
    "    sqrt1 = (z+L/2)/((r**2+a**2-2*a*r*np.cos(theta))*np.sqrt((z+L/2)**2+r**2+a**2-2*a*r*np.cos(theta)))\n",
    "    sqrt2 = (z-L/2)/((r**2+a**2-2*a*r*np.cos(theta))*np.sqrt((z-L/2)**2+r**2+a**2-2*a*r*np.cos(theta)))  \n",
    "    \n",
    "    return C*(a-r*np.cos(theta))*(sqrt1-sqrt2)\n",
    "\n",
    "def Bsolenoid(point, L, a, mi, n, i): \n",
    "    r = np.sqrt(point[0]**2+point[1]**2)\n",
    "    z = point[2]\n",
    "    phi = np.arctan2(point[1],point[0])\n",
    "    if phi < 0.:\n",
    "        phi += 2*np.pi\n",
    "    br = quad(Br,0, np.pi, args = (r, z, L, a, mi, n, i))[0]\n",
    "    bz = quad(Bz,0, np.pi, args = (r, z, L, a, mi, n, i))[0]\n",
    "    transf_matrix = np.array([[np.cos(phi), -np.sin(phi), 0],\n",
    "                              [-np.sin(phi), np.cos(phi), 0],\n",
    "                              [0,0,1]])\n",
    "    Bcart = transf_matrix @ np.array([br,0.,bz])\n",
    "    return Bcart\n"
   ]
  },
  {
   "cell_type": "code",
   "execution_count": null,
   "metadata": {},
   "outputs": [],
   "source": [
    "from scipy.integrate import quad"
   ]
  },
  {
   "cell_type": "code",
   "execution_count": null,
   "metadata": {},
   "outputs": [],
   "source": [
    "Bsol = np.zeros((N,N,3))\n",
    "L, a, mi, n, i = 0.68, 0.027, 4*np.pi*1e-7,188,16000\n",
    "for i in range(N): \n",
    "    for j in range(N):\n",
    "        Bsol[i,j] =  Bsolenoid([R[i,j],0., Z[i,j]],  L, a, mi, n, -i)"
   ]
  },
  {
   "cell_type": "code",
   "execution_count": null,
   "metadata": {},
   "outputs": [],
   "source": [
    "def RK4(b, N, p0, fieldfunc, args):\n",
    "    \"\"\"\n",
    "    Función que implementa el algoritmo de Runge-Kutta 4 vectorialmente.\n",
    "\n",
    "    b :: metros de línea de campo\n",
    "    N :: número de pasos\n",
    "    p0 :: punto inicial para el cálculo\n",
    "    coildata :: datos de bobinas\n",
    "    \"\"\"\n",
    "    p = np.zeros((N+1,7))\n",
    "    p[0,0:3] = p0\n",
    "    p[0,4:8] = fieldfunc(p[0,0:3])\n",
    "    p[0,3] = np.sqrt(np.sum(p[0,4:8]**2))\n",
    "    ite = np.linspace(0,b,N+1)\n",
    "    h = b/N\n",
    "    \n",
    "    for i in range(1,N+1):\n",
    "        \n",
    "        B1 = fieldfunc(p[i-1,0:3])\n",
    "        k1 = B1/np.sqrt(np.sum(B1**2))\n",
    "        B2 = fieldfunc(p[i-1,0:3]+h*k1/2)\n",
    "        k2 = B2/np.sqrt(np.sum(B2**2))\n",
    "        B3 = fieldfunc(p[i-1,0:3]+h*k2/2)\n",
    "        k3 = B3/np.sqrt(np.sum(B3**2))\n",
    "        B4 = fieldfunc(p[i-1,0:3]+h*k3)\n",
    "        k4 = B4/np.sqrt(np.sum(B4**2))\n",
    "        \n",
    "        p[i,0:3] = p[i-1,0:3] + (1/6)*h*(k1+2*k2+2*k3+k4)\n",
    "        p[i,4:8] = fieldfunc(p[i,0:3])\n",
    "        p[i,3] = np.sqrt(np.sum(p[i,4:8]**2))\n",
    "\n",
    "    return p, ite"
   ]
  },
  {
   "cell_type": "code",
   "execution_count": null,
   "metadata": {},
   "outputs": [],
   "source": [
    "square_coils = ordereddata\n",
    "def MEDUSAField(point):\n",
    "    return (ccb.biot(EFcoils, point)+ccb.biot(square_coils, point)+ccb.biot(VFcoils, point)+Bsolenoid(point, L, a, mi, n, -i)).astype(np.float64)"
   ]
  },
  {
   "cell_type": "code",
   "execution_count": null,
   "metadata": {},
   "outputs": [],
   "source": [
    "N_c = 50\n",
    "r = np.linspace(0.08, 0.35, num=N_c)\n",
    "z = np.linspace(-0.13, 0.13, num=N_c)\n",
    "\n",
    "R, Z = np.meshgrid(r,z)"
   ]
  },
  {
   "cell_type": "code",
   "execution_count": null,
   "metadata": {},
   "outputs": [],
   "source": [
    "B = np.zeros((N_c, N_c,3))\n",
    "for i in range(N_c): \n",
    "    for j in range(N_c):\n",
    "        B[i,j] = MEDUSAField([R[i,j], 0., Z[i,j]])"
   ]
  },
  {
   "cell_type": "code",
   "execution_count": null,
   "metadata": {
    "scrolled": false
   },
   "outputs": [],
   "source": [
    "plt.figure(figsize=(6,6), dpi=110)\n",
    "plt.axis(\"equal\")\n",
    "plt.scatter(R,Z,c = np.linalg.norm(B, axis=2), label=\"toroidal B\")\n",
    "plt.colorbar(label=\"Toroidal Magnetic Field [T]\")\n",
    "plt.streamplot(R, Z, B[:,:,0], B[:, :,2],color=\"black\")\n",
    "plt.xlabel(\"R [m]\")\n",
    "plt.ylabel(\"Z [m]\")\n",
    "plt.show()"
   ]
  },
  {
   "cell_type": "code",
   "execution_count": 18,
   "metadata": {},
   "outputs": [],
   "source": [
    "import scipy.sparse as ss\n",
    "from scipy.sparse.linalg import spsolve\n",
    "from scipy.interpolate import CubicSpline\n",
    "import numpy as np"
   ]
  },
  {
   "cell_type": "code",
   "execution_count": 35,
   "metadata": {},
   "outputs": [],
   "source": [
    "class vector_spline(object):\n",
    "    def __init__(self, posdata, vectordata):\n",
    "        \n",
    "        self.data = posdata\n",
    "        self.Y = vectordata\n",
    "        self.N = self.data.shape[0]\n",
    "        self.Ncomp = self.Y.shape[1]\n",
    "        self.setup_spline_matrix()\n",
    "        \n",
    "    def __call__(self, point):\n",
    "        \n",
    "        if type(point) == np.ndarray: \n",
    "            return self.evaluate(point) \n",
    "        else: \n",
    "            return self.evaluate_point(point)\n",
    "    \n",
    "    def setup_spline_matrix(self):\n",
    "        \n",
    "        self.H = (self.data[1:]-self.data[:-1]).reshape(self.N-1, 1)\n",
    "        self.B = (self.Y[1:] - self.Y[:-1])/self.H\n",
    "        self.U = 6.*(self.B[1:]-self.B[:-1])\n",
    "        self.V = 2*(self.H[:-1]+self.H[1:])\n",
    "        self.Z = np.zeros((self.N, self.Ncomp))  \n",
    "        V = self.V.flatten()\n",
    "        H = self.H.flatten()\n",
    "        diagonals = [V, H, H]\n",
    "        offset = [0,-1, 1]\n",
    "        self.A = ss.diags(diagonals, offset, format=\"csc\")\n",
    "        for i in range(self.Ncomp):\n",
    "            self.Z[1:-1,i] = ss.linalg.spsolve(self.A, self.U[:,i])\n",
    "        \n",
    "        \n",
    "    def evaluate(self, x):\n",
    "                \n",
    "        dx = (self.data[-1]-self.data[0])/self.N\n",
    "        \n",
    "        i = ((x-self.data[0])/dx).astype(int)\n",
    "\n",
    "        ind = np.where(i >= self.N-1)\n",
    "        i[ind] = self.N-2\n",
    "        print(i)\n",
    "        h1 = (x - self.data[i]).reshape(-1,1)\n",
    "        h2 = (self.data[i+1] - x).reshape(-1,1)\n",
    "\n",
    "        a1 = self.Z[i+1]/6/self.H[i]\n",
    "        a2 = self.Z[i]/6/self.H[i]\n",
    "\n",
    "        b1 = (self.Y[i+1]/self.H[i] - self.H[i]*self.Z[i+1]/6)\n",
    "        b2 = (self.Y[i]/self.H[i] - self.H[i]*self.Z[i]/6)\n",
    "\n",
    "        value = a1*h1**3 + a2*h2**3 + b1*h1 + b2*h2\n",
    "\n",
    "        return value\n",
    "    \n",
    "    def evaluate_point(self, x):\n",
    "        \n",
    "        dx = (self.data[-1]-self.data[0])/self.N\n",
    "        i = int((x-self.data[0])/dx)\n",
    "        if i > self.N-1:\n",
    "            i = self.N-2\n",
    "        h1 = (x - self.data[i]).reshape(-1,1)\n",
    "        h2 = (self.data[i+1] - x).reshape(-1,1)\n",
    "        a1 = self.Z[i+1]/6/self.H[i]\n",
    "        a2 = self.Z[i]/6/self.H[i]\n",
    "        b1 = (self.Y[i+1]/self.H[i] - self.H[i]*self.Z[i+1]/6)\n",
    "        b2 = (self.Y[i]/self.H[i] - self.H[i]*self.Z[i]/6)\n",
    "        value = a1*h1**3 + a2*h2**3 + b1*h1 + b2*h2\n",
    "\n",
    "        return value"
   ]
  },
  {
   "cell_type": "code",
   "execution_count": 32,
   "metadata": {},
   "outputs": [],
   "source": [
    "b = np.linspace(0,2*np.pi)\n",
    "data = np.array([np.cos(b), np.sin(b)]).T"
   ]
  },
  {
   "cell_type": "code",
   "execution_count": 33,
   "metadata": {},
   "outputs": [],
   "source": [
    "p = np.linspace(0,2*np.pi, num=100)\n",
    "dp = np.linspace(0,2*np.pi, num=20)\n",
    "\n",
    "d = np.array([np.cos(p)]).T\n",
    "spl = vector_spline(p,d)"
   ]
  },
  {
   "cell_type": "code",
   "execution_count": 34,
   "metadata": {},
   "outputs": [
    {
     "name": "stdout",
     "output_type": "stream",
     "text": [
      "[  0   5  10  15  21  26  31  36  42  47  52  57  63  68  73  78  84  89\n",
      "  94 100]\n"
     ]
    },
    {
     "ename": "IndexError",
     "evalue": "index 100 is out of bounds for axis 0 with size 100",
     "output_type": "error",
     "traceback": [
      "\u001b[1;31m---------------------------------------------------------------------------\u001b[0m",
      "\u001b[1;31mIndexError\u001b[0m                                Traceback (most recent call last)",
      "Input \u001b[1;32mIn [34]\u001b[0m, in \u001b[0;36m<cell line: 1>\u001b[1;34m()\u001b[0m\n\u001b[1;32m----> 1\u001b[0m \u001b[43mspl\u001b[49m\u001b[43m(\u001b[49m\u001b[43mdp\u001b[49m\u001b[43m)\u001b[49m\n",
      "Input \u001b[1;32mIn [31]\u001b[0m, in \u001b[0;36mvector_spline.__call__\u001b[1;34m(self, point)\u001b[0m\n\u001b[0;32m     10\u001b[0m \u001b[38;5;28;01mdef\u001b[39;00m \u001b[38;5;21m__call__\u001b[39m(\u001b[38;5;28mself\u001b[39m, point):\n\u001b[0;32m     12\u001b[0m     \u001b[38;5;28;01mif\u001b[39;00m \u001b[38;5;28mtype\u001b[39m(point) \u001b[38;5;241m==\u001b[39m np\u001b[38;5;241m.\u001b[39mndarray: \n\u001b[1;32m---> 13\u001b[0m         \u001b[38;5;28;01mreturn\u001b[39;00m \u001b[38;5;28;43mself\u001b[39;49m\u001b[38;5;241;43m.\u001b[39;49m\u001b[43mevaluate\u001b[49m\u001b[43m(\u001b[49m\u001b[43mpoint\u001b[49m\u001b[43m)\u001b[49m \n\u001b[0;32m     14\u001b[0m     \u001b[38;5;28;01melse\u001b[39;00m: \n\u001b[0;32m     15\u001b[0m         \u001b[38;5;28;01mreturn\u001b[39;00m \u001b[38;5;28mself\u001b[39m\u001b[38;5;241m.\u001b[39mevaluate_point(point)\n",
      "Input \u001b[1;32mIn [31]\u001b[0m, in \u001b[0;36mvector_spline.evaluate\u001b[1;34m(self, x)\u001b[0m\n\u001b[0;32m     40\u001b[0m i[ind] \u001b[38;5;241m-\u001b[39m\u001b[38;5;241m=\u001b[39m \u001b[38;5;28mself\u001b[39m\u001b[38;5;241m.\u001b[39mN\u001b[38;5;241m-\u001b[39m\u001b[38;5;241m2\u001b[39m\u001b[38;5;241m-\u001b[39mi[ind]\n\u001b[0;32m     41\u001b[0m \u001b[38;5;28mprint\u001b[39m(i)\n\u001b[1;32m---> 42\u001b[0m h1 \u001b[38;5;241m=\u001b[39m (x \u001b[38;5;241m-\u001b[39m \u001b[38;5;28;43mself\u001b[39;49m\u001b[38;5;241;43m.\u001b[39;49m\u001b[43mdata\u001b[49m\u001b[43m[\u001b[49m\u001b[43mi\u001b[49m\u001b[43m]\u001b[49m)\u001b[38;5;241m.\u001b[39mreshape(\u001b[38;5;241m-\u001b[39m\u001b[38;5;241m1\u001b[39m,\u001b[38;5;241m1\u001b[39m)\n\u001b[0;32m     43\u001b[0m h2 \u001b[38;5;241m=\u001b[39m (\u001b[38;5;28mself\u001b[39m\u001b[38;5;241m.\u001b[39mdata[i\u001b[38;5;241m+\u001b[39m\u001b[38;5;241m1\u001b[39m] \u001b[38;5;241m-\u001b[39m x)\u001b[38;5;241m.\u001b[39mreshape(\u001b[38;5;241m-\u001b[39m\u001b[38;5;241m1\u001b[39m,\u001b[38;5;241m1\u001b[39m)\n\u001b[0;32m     45\u001b[0m a1 \u001b[38;5;241m=\u001b[39m \u001b[38;5;28mself\u001b[39m\u001b[38;5;241m.\u001b[39mZ[i\u001b[38;5;241m+\u001b[39m\u001b[38;5;241m1\u001b[39m]\u001b[38;5;241m/\u001b[39m\u001b[38;5;241m6\u001b[39m\u001b[38;5;241m/\u001b[39m\u001b[38;5;28mself\u001b[39m\u001b[38;5;241m.\u001b[39mH[i]\n",
      "\u001b[1;31mIndexError\u001b[0m: index 100 is out of bounds for axis 0 with size 100"
     ]
    }
   ],
   "source": [
    "spl(dp)"
   ]
  },
  {
   "cell_type": "code",
   "execution_count": null,
   "metadata": {},
   "outputs": [],
   "source": [
    "plt.plot(r, data[:,1])\n",
    "plt.scatter(r0, spl(r0)[:,1], marker=\"o\", color=\"green\")\n",
    "plt.show()"
   ]
  },
  {
   "cell_type": "code",
   "execution_count": null,
   "metadata": {},
   "outputs": [],
   "source": [
    "class spline2D(object): \n",
    "    def __init__(self, x, f):\n",
    "        self.R = x[0]\n",
    "        self.Z = x[1]\n",
    "        self.f = f\n",
    "        self.dims = self.f.shape\n",
    "        self.splines = []\n",
    "        self.setup_splines()\n",
    "            \n",
    "    def __call__(self, point):\n",
    "        R = point[0]\n",
    "        Z = point[1]\n",
    "        self.get_new_pointset(Z)\n",
    "        eval_spline = vector_spline(self.R[0], self.newset)\n",
    "        return eval_spline(R)\n",
    "    \n",
    "    def setup_splines(self):\n",
    "        for i in range(self.Z.shape[1]):\n",
    "            self.splines.append(vector_spline(self.Z[:,i], self.f[:,i]))\n",
    "    \n",
    "    def get_new_pointset(self, Z):\n",
    "        self.newset = np.zeros((self.dims[1], self.dims[2]))\n",
    "        for i in range(self.Z.shape[1]):\n",
    "            self.newset[i] = self.splines[i](Z)"
   ]
  },
  {
   "cell_type": "code",
   "execution_count": null,
   "metadata": {},
   "outputs": [],
   "source": [
    "bispline = spline2D([R, Z], B)"
   ]
  },
  {
   "cell_type": "code",
   "execution_count": null,
   "metadata": {},
   "outputs": [],
   "source": []
  }
 ],
 "metadata": {
  "kernelspec": {
   "display_name": "Python 3 (ipykernel)",
   "language": "python",
   "name": "python3"
  },
  "language_info": {
   "codemirror_mode": {
    "name": "ipython",
    "version": 3
   },
   "file_extension": ".py",
   "mimetype": "text/x-python",
   "name": "python",
   "nbconvert_exporter": "python",
   "pygments_lexer": "ipython3",
   "version": "3.8.13"
  }
 },
 "nbformat": 4,
 "nbformat_minor": 4
}
