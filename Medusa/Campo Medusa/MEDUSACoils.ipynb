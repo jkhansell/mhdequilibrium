{
 "cells": [
  {
   "cell_type": "code",
   "execution_count": 2,
   "id": "24cc387f",
   "metadata": {},
   "outputs": [],
   "source": [
    "import numpy as np\n",
    "import matplotlib.pyplot as plt"
   ]
  },
  {
   "cell_type": "code",
   "execution_count": 3,
   "id": "8388c558",
   "metadata": {},
   "outputs": [],
   "source": [
    "data = np.loadtxt(\"bobina.csv\", delimiter=\",\")*1e-3"
   ]
  },
  {
   "cell_type": "code",
   "execution_count": 4,
   "id": "feb9f0ea",
   "metadata": {},
   "outputs": [],
   "source": [
    "# Rectangular coil magnetic field\n",
    "\n",
    "class square_coils(object):\n",
    "    \"\"\"\n",
    "    MEDUSA rectangular coil class, evaluates field at any point in space.\n",
    "    \"\"\"\n",
    "    def __init__(self, coildata, numcoils, cur):\n",
    "        self.coildata = coildata\n",
    "        self.numcoils = numcoils\n",
    "        self.cur = cur\n",
    "        self.dphi = 2*np.pi/numcoils\n",
    "        self.mu=4e-7*np.pi\n",
    "        self.phi = np.arange(0,2*np.pi,self.dphi)\n",
    "        self.coildata = self.arrange_data() \n",
    "    \n",
    "    def __call__(self, point):\n",
    "        return self.calc_field(point)\n",
    "        \n",
    "    def arrange_data(self):\n",
    "        new_coildata = np.zeros((self.numcoils, self.coildata.shape[0],3))\n",
    "        new_coildata[:,:,0] = np.outer(np.cos(self.phi),self.coildata[:,0])\n",
    "        new_coildata[:,:,1] = np.outer(np.sin(self.phi),self.coildata[:,0])\n",
    "        new_coildata[:,:,2] = self.coildata[:,1]\n",
    "        \n",
    "        return new_coildata\n",
    "        \n",
    "    def calc_field(self, point):\n",
    "        \"\"\"\n",
    "        Calculates field of given set of coils at a point.  \n",
    "        \"\"\"\n",
    "            \n",
    "        Rf = point - self.coildata\n",
    "        _, b, _ = Rf.shape\n",
    "        coef = self.mu*self.cur/4*np.pi\n",
    "        e_s = np.diff(Rf, axis=1)\n",
    "        L = np.sqrt(np.sum(e_s**2, axis=2))\n",
    "        L_2 = np.tile(L.T, (3,1,1)).T\n",
    "        e_hat = e_s/L_2\n",
    "        Rfmag = np.sqrt(np.sum(Rf**2,axis=2))\n",
    "        Rsum = (Rfmag[:,:-1]+Rfmag[:,1:])\n",
    "        num = 2*L*(Rfmag[:,0:b-1]+Rfmag[:,1:b])#2*L*Rsum\n",
    "        denom = (Rfmag[:,0:b-1]*Rfmag[:,1:b])*((Rfmag[:,0:b-1]+Rfmag[:,1:b])**2-L**2)#Rfmag[:,:-1]*Rfmag[:,1:]*(Rsum**2-L*2)\n",
    "        coef_2 = num/denom\n",
    "        e_vects = np.multiply(e_hat, coef)\n",
    "        coef_m = np.tile(coef_2.T, (3,1,1)).T\n",
    "        Ri=coef_m*Rf[:,:-1]\n",
    "        B = np.cross(e_vects, Ri)\n",
    "        tot = np.sum(B, axis=(0,1))\n",
    "        \n",
    "        return tot"
   ]
  },
  {
   "cell_type": "code",
   "execution_count": 5,
   "id": "88b1942b",
   "metadata": {},
   "outputs": [],
   "source": [
    "from scipy.special import ellipk, ellipe"
   ]
  },
  {
   "cell_type": "code",
   "execution_count": 286,
   "id": "d725ff63",
   "metadata": {},
   "outputs": [],
   "source": [
    "class loopcoil(object): \n",
    "    def __init__(self, radius, cur, center, n_vect):\n",
    "        self.a = radius\n",
    "        self.cur = cur\n",
    "        self.B_0 = cur*4e-7*np.pi/(2*self.a)\n",
    "        self.O = center\n",
    "        self.normal = n_vect\n",
    "    \n",
    "    def __call__(self, point):\n",
    "        self.get_position_wrt_center(point)\n",
    "        return self.calc_field()\n",
    "        \n",
    "    def get_position_wrt_center(self, point):\n",
    "        self.poswrtO = point-self.O    \n",
    "        self.zvect = np.dot(self.poswrtO, self.normal)*self.normal\n",
    "        self.rvect = self.poswrtO-self.zvect\n",
    "        self.r = np.sqrt(np.sum(self.rvect**2))\n",
    "        self.z = np.sqrt(np.sum(self.zvect**2))\n",
    "        \n",
    "    def Baxial(self):\n",
    "        if self.a == 0: \n",
    "            if self.z == 0:\n",
    "                return NaN\n",
    "            else:\n",
    "                return 0.0 \n",
    "        else: \n",
    "            return (self.B_0*self.a**2)/(self.z**2+self.a**2)**1.5*self.normal\n",
    "        \n",
    "    def Br(self, C, alphasq, betasq, ksq):\n",
    "        br = ((C*self.z)/(2*alphasq*np.sqrt(betasq)*self.r))*((self.a**2 +\n",
    "                self.r**2 + self.z**2)*ellipe(ksq) - alphasq*ellipk(ksq))\n",
    "        return br*self.rvect/self.r\n",
    "        \n",
    "    def Bz(self, C, alphasq, betasq, ksq):\n",
    "        bz = (C/(2*alphasq*np.sqrt(betasq)))*((self.a**2 -\n",
    "                self.r**2 - self.z**2)*ellipe(ksq) + alphasq*ellipk(ksq))\n",
    "        return bz*self.normal\n",
    "        \n",
    "    def calc_field(self):\n",
    "        \n",
    "        C = 4e-7*self.cur\n",
    "        alphasq = self.a**2+self.r**2+self.z**2-2*self.a*self.r\n",
    "        betasq = self.a**2+self.r**2+self.z**2+2*self.a*self.r\n",
    "        ksq = 1-alphasq/betasq\n",
    "        \n",
    "        br = self.Br(C, alphasq, betasq, ksq)\n",
    "        bz = self.Bz(C, alphasq, betasq, ksq)       \n",
    "        \n",
    "        return br + bz"
   ]
  },
  {
   "cell_type": "code",
   "execution_count": 265,
   "id": "f780c113",
   "metadata": {},
   "outputs": [],
   "source": [
    "medusasqcoils = square_coils(data, 8, 2.3e3)\n",
    "VFC1 = loopcoil(0.330, -500, np.array([0,0,0.181]), \n",
    "                                np.array([0,0,1]))\n",
    "VFC2 = loopcoil(0.330, -500, np.array([0,0,-0.181]), \n",
    "                                np.array([0,0,1]))\n",
    "\n",
    "EFC1 = loopcoil(0.185, 100, np.array([0,0,0.181]), \n",
    "                                np.array([0,0,1]))\n",
    "EFC2 = loopcoil(0.185, -100, np.array([0,0,-0.181]), \n",
    "                                np.array([0,0,1]))"
   ]
  },
  {
   "cell_type": "code",
   "execution_count": 290,
   "id": "a5c30937",
   "metadata": {},
   "outputs": [],
   "source": [
    "r = np.linspace(0.05, 0.55, num=25)\n",
    "z = np.linspace(-0.14,0.14, num=25)\n",
    "R,Z = np.meshgrid(r,z)"
   ]
  },
  {
   "cell_type": "code",
   "execution_count": 291,
   "id": "ba623e26",
   "metadata": {},
   "outputs": [],
   "source": [
    "n = 25\n",
    "Bfield = np.zeros((n,n,3))\n",
    "\n",
    "for i in range(n): \n",
    "    for j in range(n):\n",
    "        r = np.array([R[i,j], 0.0, Z[i,j]])\n",
    "        Bfield[i,j] = VFC1(r)#+VFC2(r)+EFC1(r)+EFC2(r)\n",
    "\n",
    "Bmag = np.sqrt(np.sum(Bfield**2, axis=2))"
   ]
  },
  {
   "cell_type": "code",
   "execution_count": 313,
   "id": "9587143c",
   "metadata": {},
   "outputs": [],
   "source": [
    "x = np.linspace(0.12, 0.2,num=30)\n",
    "z = np.linspace(-0.01, 0.01,num=30)\n",
    "X,Z = np.meshgrid(x,z)\n",
    "\n",
    "testcoil = loopcoil(0.1, 1, np.zeros(3), np.array([0,0,1])) \n",
    "Bfield = np.zeros((30,30,3))\n",
    "\n",
    "for i in range(30): \n",
    "    for j in range(30):\n",
    "        r = np.array([X[i,j], 0.0, Z[i,j]])\n",
    "        Bfield[i,j] = testcoil(r)"
   ]
  },
  {
   "cell_type": "code",
   "execution_count": 312,
   "id": "d40aa91d",
   "metadata": {},
   "outputs": [
    {
     "data": {
      "image/png": "[encoded data removed]",
      "text/plain": [
       "<Figure size 858x660 with 1 Axes>"
      ]
     },
     "metadata": {
      "needs_background": "light"
     },
     "output_type": "display_data"
    }
   ],
   "source": [
    "plt.figure(figsize=(7.8,6), dpi=110)\n",
    "#plt.scatter(X, Z, c=Bfield[:,:,0])\n",
    "plt.scatter([-0.1,0.1],[0.0,0.0],marker=\"*\")\n",
    "plt.quiver(X,Z,Bfield[:,:,0],Bfield[:,:,2], scale_units=\"dots\", scale=3e-7)\n",
    "#plt.colorbar(label=\"Magnetic Field\")\n",
    "plt.xlabel(\"R [m]\")\n",
    "plt.ylabel(\"Z [m]\")\n",
    "#plt.legend(bbox_to_anchor=(1.2, 1.05))\n",
    "plt.show()"
   ]
  },
  {
   "cell_type": "code",
   "execution_count": 54,
   "id": "efd5b148",
   "metadata": {},
   "outputs": [],
   "source": [
    "from scipy.special import ellipeinc, ellipkinc"
   ]
  },
  {
   "cell_type": "code",
   "execution_count": null,
   "id": "ed7e0594",
   "metadata": {},
   "outputs": [],
   "source": [
    "class solenoid(object): \n",
    "    def __init__(self, radius, center, length, axisvect):\n",
    "        self.a = radius\n",
    "        self.O = center\n",
    "        self.length = length\n",
    "        self.axis = axisvect\n",
    "    \n",
    "    def __call__(self, point):\n",
    "    \n",
    "    def get_position_wrt_center(self, point):\n",
    "        self.rvect = point - self.O\n",
    "        self.r = np.sqrt(np.sum(self.rvect**2))\n",
    "    \n",
    "    def calc_field(self, point):\n",
    "        k = np.sqrt(4*self.a*self.r)\n",
    "        "
   ]
  },
  {
   "cell_type": "code",
   "execution_count": 12,
   "id": "2deea102",
   "metadata": {},
   "outputs": [],
   "source": [
    "def biot(r):\n",
    "    return medusasqcoils(r)+VFC1(r)+VFC2(r)+EFC1(r)+EFC2(r)"
   ]
  },
  {
   "cell_type": "code",
   "execution_count": 13,
   "id": "b4a1ef2e",
   "metadata": {},
   "outputs": [],
   "source": [
    "def RK4(b, N, p0):\n",
    "    \"\"\"\n",
    "    Función que implementa el algoritmo de Runge-Kutta 4 vectorialmente.\n",
    "\n",
    "    b :: metros de línea de campo\n",
    "    N :: número de pasos\n",
    "    p0 :: punto inicial para el cálculo\n",
    "    coildata :: datos de bobinas\n",
    "    \"\"\"\n",
    "    p = np.zeros((N+1,7))\n",
    "    p[0,0:3] = p0\n",
    "    p[0,4:8] = biot(p[0,0:3])\n",
    "    p[0,3] = np.sqrt(np.sum(p[0,4:8]**2))\n",
    "    ite = np.linspace(0,b,N+1)\n",
    "    h = b/N\n",
    "    \n",
    "    for i in range(1,N+1):\n",
    "        \n",
    "        B1 = biot(p[i-1,0:3])\n",
    "        k1 = B1/np.sqrt(np.sum(B1**2))\n",
    "        B2 = biot(p[i-1,0:3]+h*k1/2)\n",
    "        k2 = B2/np.sqrt(np.sum(B2**2))\n",
    "        B3 = biot(p[i-1,0:3]+h*k2/2)\n",
    "        k3 = B3/np.sqrt(np.sum(B3**2))\n",
    "        B4 = biot(p[i-1,0:3]+h*k3)\n",
    "        k4 = B4/np.sqrt(np.sum(B4**2))\n",
    "        \n",
    "        p[i,0:3] = p[i-1,0:3] + (1/6)*h*(k1+2*k2+2*k3+k4)\n",
    "        p[i,4:8] = biot(p[i,0:3])\n",
    "        p[i,3] = np.sqrt(np.sum(p[i,4:8]**2))\n",
    "\n",
    "    return p, ite"
   ]
  }
 ],
 "metadata": {
  "kernelspec": {
   "display_name": "Python 3 (ipykernel)",
   "language": "python",
   "name": "python3"
  },
  "language_info": {
   "codemirror_mode": {
    "name": "ipython",
    "version": 3
   },
   "file_extension": ".py",
   "mimetype": "text/x-python",
   "name": "python",
   "nbconvert_exporter": "python",
   "pygments_lexer": "ipython3",
   "version": "3.8.13"
  }
 },
 "nbformat": 4,
 "nbformat_minor": 5
}
