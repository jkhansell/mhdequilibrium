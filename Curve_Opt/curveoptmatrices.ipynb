{
 "cells": [
  {
   "cell_type": "code",
   "execution_count": 1,
   "metadata": {
    "executionInfo": {
     "elapsed": 171,
     "status": "ok",
     "timestamp": 1624947193930,
     "user": {
      "displayName": "Johansell Villalobos",
      "photoUrl": "https://lh3.googleusercontent.com/a-/AOh14GgUYr0TWF8ESpys-cjK3UhPB6T9PFhv7wMUO5x4uyc=s64",
      "userId": "14640729836347752101"
     },
     "user_tz": 360
    },
    "id": "3zEDkMBfKLib"
   },
   "outputs": [],
   "source": [
    "import numpy as np\n"
   ]
  },
  {
   "cell_type": "code",
   "execution_count": null,
   "metadata": {},
   "outputs": [],
   "source": []
  },
  {
   "cell_type": "code",
   "execution_count": 2,
   "metadata": {
    "executionInfo": {
     "elapsed": 5192,
     "status": "ok",
     "timestamp": 1624947199327,
     "user": {
      "displayName": "Johansell Villalobos",
      "photoUrl": "https://lh3.googleusercontent.com/a-/AOh14GgUYr0TWF8ESpys-cjK3UhPB6T9PFhv7wMUO5x4uyc=s64",
      "userId": "14640729836347752101"
     },
     "user_tz": 360
    },
    "id": "EsVdmCLEbvwZ"
   },
   "outputs": [],
   "source": [
    "m = 12\n",
    "n = 13\n",
    "nfp = 2\n",
    "data = np.loadtxt(\"path0040.txt\",\n",
    "                  skiprows = 1, delimiter = \",\")"
   ]
  },
  {
   "cell_type": "code",
   "execution_count": 7,
   "metadata": {
    "executionInfo": {
     "elapsed": 15,
     "status": "ok",
     "timestamp": 1624947199328,
     "user": {
      "displayName": "Johansell Villalobos",
      "photoUrl": "https://lh3.googleusercontent.com/a-/AOh14GgUYr0TWF8ESpys-cjK3UhPB6T9PFhv7wMUO5x4uyc=s64",
      "userId": "14640729836347752101"
     },
     "user_tz": 360
    },
    "id": "0r2SCfUc1V0M"
   },
   "outputs": [],
   "source": [
    "def carttotorcil(data, R0):\n",
    "    \"\"\"\n",
    "    Función que devuelve las estructuras de datos en los sistemas coordenados \n",
    "    necesarios para el cálculo de área y de error local/promedio. \n",
    "\n",
    "    data :: estructura de datos proporcionada de la solución de la ecuación \n",
    "    diferencial. \n",
    "\n",
    "    R0: Radio mayor del SCR-1 o dispositivo.\n",
    "    \"\"\"\n",
    "    x, y, z, b, bx, by, bz = data.T\n",
    "    R = np.sqrt(x**2+y**2)\n",
    "\n",
    "    phi = np.arctan2(y,x)\n",
    "    posp = np.where(phi<0)\n",
    "    phi[posp] = phi[posp]+2*np.pi\n",
    "\n",
    "    Br = bx*np.cos(phi)+by*np.sin(phi)\n",
    "    Bphi = -bx*np.sin(phi)+by*np.cos(phi)\n",
    "    rtor = np.sqrt((R-R0)**2+z**2)\n",
    "    theta = np.arctan2(z, (R-R0))+np.pi\n",
    "    post = np.where(phi<0)\n",
    "    phi[post] = phi[post]+2*np.pi\n",
    "\n",
    "    datastruct1 = np.array([R, phi, z, theta, b, Br, Bphi, bz]).T\n",
    "\n",
    "    return datastruct1"
   ]
  },
  {
   "cell_type": "code",
   "execution_count": 4,
   "metadata": {
    "executionInfo": {
     "elapsed": 200,
     "status": "ok",
     "timestamp": 1624947199515,
     "user": {
      "displayName": "Johansell Villalobos",
      "photoUrl": "https://lh3.googleusercontent.com/a-/AOh14GgUYr0TWF8ESpys-cjK3UhPB6T9PFhv7wMUO5x4uyc=s64",
      "userId": "14640729836347752101"
     },
     "user_tz": 360
    },
    "id": "QdNL95Kh18xS"
   },
   "outputs": [],
   "source": [
    "datastruct = carttotorcil(data, 0.2477)"
   ]
  },
  {
   "cell_type": "code",
   "execution_count": 8,
   "metadata": {},
   "outputs": [],
   "source": [
    "def initialize_data(data, nplanes):\n",
    "    '''\n",
    "    Inicializa los datos, en \"nplanes\" planos seleccionados del intervalo [0, 2pi] \n",
    "    para realizar el ajuste de parámetros. \n",
    "\n",
    "    data :: datos a analizar. \n",
    "    '''\n",
    "      \n",
    "    torplanes = np.linspace(0, 2*np.pi, num=nplanes, endpoint=False)\n",
    "    dphi = 0.01\n",
    "    phi_up = torplanes + dphi/2\n",
    "    phi_down = torplanes - dphi/2\n",
    "    R0 = 0.2477 \n",
    "\n",
    "    boolarr = [np.logical_and(\n",
    "                    data[:,1] < phi_up[i],\n",
    "                    data[:,1] > phi_down[i]) for i in range(len(torplanes))]\n",
    "                    #comparativo para los nplanes. \n",
    "    \n",
    "    boolarr = np.array(boolarr).any(axis = 0)\n",
    "    pos = np.where(boolarr)[0]\n",
    "    data = data[pos]\n",
    "    \n",
    "    R = data[:,0]\n",
    "    phi = data[:,1]\n",
    "    z = data[:,2]\n",
    "    theta = data[:,3]\n",
    "    B = data[:,4]\n",
    "    Br = data[:,5]\n",
    "    Bphi = data[:,6]\n",
    "    Bz = data[:,7]\n",
    "\n",
    "    return np.array([R, phi, z, theta,B, Br, Bphi, Bz])"
   ]
  },
  {
   "cell_type": "code",
   "execution_count": 10,
   "metadata": {
    "executionInfo": {
     "elapsed": 16,
     "status": "ok",
     "timestamp": 1624947199519,
     "user": {
      "displayName": "Johansell Villalobos",
      "photoUrl": "https://lh3.googleusercontent.com/a-/AOh14GgUYr0TWF8ESpys-cjK3UhPB6T9PFhv7wMUO5x4uyc=s64",
      "userId": "14640729836347752101"
     },
     "user_tz": 360
    },
    "id": "dJ7M9gwh-MyW"
   },
   "outputs": [],
   "source": [
    "fitdata = initialize_data(datastruct, 100)"
   ]
  },
  {
   "cell_type": "code",
   "execution_count": 11,
   "metadata": {},
   "outputs": [],
   "source": [
    "import torch as tor\n",
    "from torch.nn.parameter import Parameter"
   ]
  },
  {
   "cell_type": "code",
   "execution_count": 12,
   "metadata": {},
   "outputs": [],
   "source": [
    "def seriesargs(theta, phi, m, n, nfp, coord) -> tor.Tensor:\n",
    "    funcs = []\n",
    "    mvect = tor.arange(m+1)\n",
    "    nvect = tor.arange(-n,n+1)\n",
    "    M, N = tor.meshgrid(mvect, nvect)\n",
    "    i = tor.einsum('ij,k', M, theta)\n",
    "    j = tor.einsum('ij,k', N*nfp, theta)\n",
    "    if coord == 'R':\n",
    "        x = tor.cos(i-j)\n",
    "    else: \n",
    "        x = tor.sin(i-j)\n",
    "    \n",
    "    return x"
   ]
  },
  {
   "cell_type": "code",
   "execution_count": 13,
   "metadata": {},
   "outputs": [],
   "source": [
    "rdata, phi, zdata, theta, *_ = tor.from_numpy(fitdata.astype(np.float32))"
   ]
  },
  {
   "cell_type": "code",
   "execution_count": 14,
   "metadata": {},
   "outputs": [],
   "source": [
    "cosmat = seriesargs(theta, phi, m, n, nfp, 'R')"
   ]
  },
  {
   "cell_type": "code",
   "execution_count": 40,
   "metadata": {},
   "outputs": [],
   "source": [
    "params = tor.rand(m+1, 2*n+1)\n",
    "params.requires_grad = True\n",
    "optimizer = tor.optim.SGD({params}, lr=0.001, momentum=0.4)"
   ]
  },
  {
   "cell_type": "code",
   "execution_count": 41,
   "metadata": {},
   "outputs": [
    {
     "name": "stdout",
     "output_type": "stream",
     "text": [
      "0\n",
      "500\n",
      "1000\n",
      "1500\n",
      "2000\n",
      "2500\n",
      "3000\n",
      "3500\n",
      "4000\n",
      "4500\n"
     ]
    }
   ],
   "source": [
    "plot = np.zeros((5000,2))\n",
    "for i in range(5000):\n",
    "    if i % 500 == 0: print(i)\n",
    "    optimizer.zero_grad()\n",
    "    R = tor.einsum('ij,ijk', params, cosmat)\n",
    "    loss = tor.mean((rdata-R)**2)\n",
    "    loss.backward()\n",
    "    optimizer.step()\n",
    "    plot[i,0] = i\n",
    "    plot[i,1] = loss"
   ]
  },
  {
   "cell_type": "code",
   "execution_count": 17,
   "metadata": {},
   "outputs": [],
   "source": [
    "import matplotlib.pyplot as plt"
   ]
  },
  {
   "cell_type": "code",
   "execution_count": 31,
   "metadata": {},
   "outputs": [
    {
     "data": {
      "text/plain": [
       "[<matplotlib.lines.Line2D at 0x178b3196ee0>]"
      ]
     },
     "execution_count": 31,
     "metadata": {},
     "output_type": "execute_result"
    },
    {
     "data": {
      "image/png": "[encoded data removed]",
      "text/plain": [
       "<Figure size 432x288 with 1 Axes>"
      ]
     },
     "metadata": {
      "needs_background": "light"
     },
     "output_type": "display_data"
    }
   ],
   "source": [
    "plt.plot(plot[:,0], plot[:,1])"
   ]
  },
  {
   "cell_type": "code",
   "execution_count": 34,
   "metadata": {},
   "outputs": [
    {
     "name": "stdout",
     "output_type": "stream",
     "text": [
      "tensor([0.2211, 0.2211, 0.2211,  ..., 0.2482, 0.2483, 0.2483])\n"
     ]
    },
    {
     "data": {
      "text/plain": [
       "tensor([0.2280, 0.2280, 0.2280,  ..., 0.2484, 0.2484, 0.2484],\n",
       "       grad_fn=<ViewBackward>)"
      ]
     },
     "execution_count": 34,
     "metadata": {},
     "output_type": "execute_result"
    }
   ],
   "source": [
    "print(rdata) \n",
    "tor.einsum('ij,ijk', params, cosmat)"
   ]
  }
 ],
 "metadata": {
  "colab": {
   "authorship_tag": "ABX9TyPL0RtWR4TuGZPu3aNX8QP8",
   "collapsed_sections": [],
   "mount_file_id": "1s8z2f16htyKwHweCRsp5AybaA4jx3yu4",
   "name": "PyTorchstuff.ipynb",
   "provenance": []
  },
  "kernelspec": {
   "display_name": "Python 3",
   "language": "python",
   "name": "python3"
  },
  "language_info": {
   "codemirror_mode": {
    "name": "ipython",
    "version": 3
   },
   "file_extension": ".py",
   "mimetype": "text/x-python",
   "name": "python",
   "nbconvert_exporter": "python",
   "pygments_lexer": "ipython3",
   "version": "3.8.5"
  }
 },
 "nbformat": 4,
 "nbformat_minor": 4
}
