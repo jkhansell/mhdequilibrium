{
 "cells": [
  {
   "cell_type": "code",
   "execution_count": 2,
   "metadata": {
    "executionInfo": {
     "elapsed": 171,
     "status": "ok",
     "timestamp": 1624947193930,
     "user": {
      "displayName": "Johansell Villalobos",
      "photoUrl": "https://lh3.googleusercontent.com/a-/AOh14GgUYr0TWF8ESpys-cjK3UhPB6T9PFhv7wMUO5x4uyc=s64",
      "userId": "14640729836347752101"
     },
     "user_tz": 360
    },
    "id": "3zEDkMBfKLib"
   },
   "outputs": [],
   "source": [
    "import numpy as np"
   ]
  },
  {
   "cell_type": "code",
   "execution_count": 3,
   "metadata": {
    "executionInfo": {
     "elapsed": 5192,
     "status": "ok",
     "timestamp": 1624947199327,
     "user": {
      "displayName": "Johansell Villalobos",
      "photoUrl": "https://lh3.googleusercontent.com/a-/AOh14GgUYr0TWF8ESpys-cjK3UhPB6T9PFhv7wMUO5x4uyc=s64",
      "userId": "14640729836347752101"
     },
     "user_tz": 360
    },
    "id": "EsVdmCLEbvwZ"
   },
   "outputs": [],
   "source": [
    "m = 12\n",
    "n = 13\n",
    "nfp = 2\n",
    "data = np.loadtxt(\"path0040.txt\",\n",
    "                  skiprows = 1, delimiter = \",\")"
   ]
  },
  {
   "cell_type": "code",
   "execution_count": 4,
   "metadata": {
    "executionInfo": {
     "elapsed": 15,
     "status": "ok",
     "timestamp": 1624947199328,
     "user": {
      "displayName": "Johansell Villalobos",
      "photoUrl": "https://lh3.googleusercontent.com/a-/AOh14GgUYr0TWF8ESpys-cjK3UhPB6T9PFhv7wMUO5x4uyc=s64",
      "userId": "14640729836347752101"
     },
     "user_tz": 360
    },
    "id": "0r2SCfUc1V0M"
   },
   "outputs": [],
   "source": [
    "def carttotorcil(data, R0):\n",
    "    \"\"\"\n",
    "    Función que devuelve las estructuras de datos en los sistemas coordenados \n",
    "    necesarios para el cálculo de área y de error local/promedio. \n",
    "\n",
    "    data :: estructura de datos proporcionada de la solución de la ecuación \n",
    "    diferencial. \n",
    "\n",
    "    R0: Radio mayor del SCR-1 o dispositivo.\n",
    "    \"\"\"\n",
    "    x, y, z, b, bx, by, bz = data.T\n",
    "    R = np.sqrt(x**2+y**2)\n",
    "\n",
    "    phi = np.arctan2(y,x)\n",
    "    posp = np.where(phi<0)\n",
    "    phi[posp] = phi[posp]+2*np.pi\n",
    "\n",
    "    Br = bx*np.cos(phi)+by*np.sin(phi)\n",
    "    Bphi = -bx*np.sin(phi)+by*np.cos(phi)\n",
    "    rtor = np.sqrt((R-R0)**2+z**2)\n",
    "    theta = np.arctan2(z, (R-R0))+np.pi\n",
    "    post = np.where(phi<0)\n",
    "    phi[post] = phi[post]+2*np.pi\n",
    "\n",
    "    datastruct1 = np.array([R, phi, z, theta, b, Br, Bphi, bz]).T\n",
    "\n",
    "    return datastruct1"
   ]
  },
  {
   "cell_type": "code",
   "execution_count": 5,
   "metadata": {
    "executionInfo": {
     "elapsed": 200,
     "status": "ok",
     "timestamp": 1624947199515,
     "user": {
      "displayName": "Johansell Villalobos",
      "photoUrl": "https://lh3.googleusercontent.com/a-/AOh14GgUYr0TWF8ESpys-cjK3UhPB6T9PFhv7wMUO5x4uyc=s64",
      "userId": "14640729836347752101"
     },
     "user_tz": 360
    },
    "id": "QdNL95Kh18xS"
   },
   "outputs": [],
   "source": [
    "datastruct = carttotorcil(data, 0.2477)"
   ]
  },
  {
   "cell_type": "code",
   "execution_count": 7,
   "metadata": {
    "executionInfo": {
     "elapsed": 16,
     "status": "ok",
     "timestamp": 1624947199518,
     "user": {
      "displayName": "Johansell Villalobos",
      "photoUrl": "https://lh3.googleusercontent.com/a-/AOh14GgUYr0TWF8ESpys-cjK3UhPB6T9PFhv7wMUO5x4uyc=s64",
      "userId": "14640729836347752101"
     },
     "user_tz": 360
    },
    "id": "NkEgqu6927nW"
   },
   "outputs": [],
   "source": [
    "def initialize_data(data, nplanes):\n",
    "    '''\n",
    "    Inicializa los datos, en \"nplanes\" planos seleccionados del intervalo [0, 2pi] \n",
    "    para realizar el ajuste de parámetros. \n",
    "\n",
    "    data :: datos a analizar. \n",
    "    '''\n",
    "      \n",
    "    torplanes = np.linspace(0, 2*np.pi, num=nplanes, endpoint=False)\n",
    "    dphi = 0.01\n",
    "    phi_up = torplanes + dphi/2\n",
    "    phi_down = torplanes - dphi/2\n",
    "    R0 = 0.2477 \n",
    "\n",
    "    boolarr = [np.logical_and(\n",
    "                    data[:,1] < phi_up[i],\n",
    "                    data[:,1] > phi_down[i]) for i in range(len(torplanes))]\n",
    "                    #comparativo para los nplanes. \n",
    "    \n",
    "    boolarr = np.array(boolarr).any(axis = 0)\n",
    "    pos = np.where(boolarr)[0]\n",
    "    data = data[pos]\n",
    "    \n",
    "    R = data[:,0]\n",
    "    phi = data[:,1]\n",
    "    z = data[:,2]\n",
    "    theta = data[:,3]\n",
    "    B = data[:,4]\n",
    "    Br = data[:,5]\n",
    "    Bphi = data[:,6]\n",
    "    Bz = data[:,7]\n",
    "\n",
    "    return np.array([R, phi, z, theta,B, Br, Bphi, Bz])"
   ]
  },
  {
   "cell_type": "code",
   "execution_count": 8,
   "metadata": {
    "executionInfo": {
     "elapsed": 16,
     "status": "ok",
     "timestamp": 1624947199519,
     "user": {
      "displayName": "Johansell Villalobos",
      "photoUrl": "https://lh3.googleusercontent.com/a-/AOh14GgUYr0TWF8ESpys-cjK3UhPB6T9PFhv7wMUO5x4uyc=s64",
      "userId": "14640729836347752101"
     },
     "user_tz": 360
    },
    "id": "dJ7M9gwh-MyW"
   },
   "outputs": [],
   "source": [
    "fitdata = initialize_data(datastruct, 360)"
   ]
  },
  {
   "cell_type": "code",
   "execution_count": 21,
   "metadata": {
    "executionInfo": {
     "elapsed": 16,
     "status": "ok",
     "timestamp": 1624947199520,
     "user": {
      "displayName": "Johansell Villalobos",
      "photoUrl": "https://lh3.googleusercontent.com/a-/AOh14GgUYr0TWF8ESpys-cjK3UhPB6T9PFhv7wMUO5x4uyc=s64",
      "userId": "14640729836347752101"
     },
     "user_tz": 360
    },
    "id": "dtCcVUEl42vf"
   },
   "outputs": [],
   "source": [
    "def data_setup(dataset, m, n, nfp):\n",
    "    '''\n",
    "    Se construyen las matrices de cosenos y senos para obtener las series de fourier. \n",
    "    \n",
    "    dataset:: datos proporcionados por la función initialize_data()\n",
    "    m, n :: modos de la serie escogida \n",
    "    nfp :: periodo de campo \n",
    "    '''\n",
    "\n",
    "    rdata, phi, zdata, theta, *_ = dataset\n",
    "\n",
    "    cosmat = np.zeros((m+1,2*n+1,len(rdata)))\n",
    "    sinmat = np.zeros((m+1,2*n+1,len(zdata)))\n",
    "\n",
    "    Rcosmat = np.zeros((m+1,2*n+1,len(rdata)))\n",
    "    Zsinmat = np.zeros((m+1,2*n+1,len(zdata)))\n",
    "\n",
    "    for j in range(m+1): \n",
    "        for i in range(-n, n+1):\n",
    "\n",
    "            cosmat[j,i+n] = np.cos(j*theta-i*nfp*phi)\n",
    "            sinmat[j,i+n] = np.sin(j*theta-i*nfp*phi)\n",
    "\n",
    "            Rcosmat[j,i+n] = np.multiply(rdata, np.cos(j*theta-i*nfp*phi))\n",
    "            Zsinmat[j,i+n] = np.multiply(zdata, np.sin(j*theta-i*nfp*phi))\n",
    "\n",
    "    cosmats = cosmat.copy().reshape((m+1)*(2*n+1),-1)\n",
    "    sinmats = sinmat.copy().reshape((m+1)*(2*n+1),-1)\n",
    "\n",
    "    Rcosmat = np.sum(Rcosmat.reshape((m+1)*(2*n+1),-1), axis = 1)\n",
    "    Zsinmat = np.sum(Zsinmat.reshape((m+1)*(2*n+1),-1), axis = 1)\n",
    "    \n",
    "    Rmatrix = np.tile(np.sum(cosmats, axis=1), ((m+1)*(2*n+1),1))\n",
    "    Zmatrix = np.tile(np.sum(sinmats, axis=1), ((m+1)*(2*n+1),1))\n",
    "    \n",
    "    inds = np.diag_indices((m+1)*(2*n+1), ndim=2)\n",
    "    \n",
    "    Rmatrix[inds] = np.sum(cosmats**2, axis =1)\n",
    "    Zmatrix[inds] = np.sum(sinmats**2, axis =1)\n",
    "\n",
    "    return Rmatrix, Zmatrix, Rcosmat, Zsinmat, cosmat, sinmat\n"
   ]
  },
  {
   "cell_type": "code",
   "execution_count": 20,
   "metadata": {
    "id": "NnBbnBFq6n6E"
   },
   "outputs": [
    {
     "ename": "IndexError",
     "evalue": "too many indices for array: array is 1-dimensional, but 2 were indexed",
     "output_type": "error",
     "traceback": [
      "\u001b[1;31m---------------------------------------------------------------------------\u001b[0m",
      "\u001b[1;31mIndexError\u001b[0m                                Traceback (most recent call last)",
      "\u001b[1;32m<ipython-input-20-4bf96654a386>\u001b[0m in \u001b[0;36m<module>\u001b[1;34m\u001b[0m\n\u001b[1;32m----> 1\u001b[1;33m \u001b[0mRmat\u001b[0m\u001b[1;33m,\u001b[0m \u001b[0mZmat\u001b[0m\u001b[1;33m,\u001b[0m \u001b[0mRload\u001b[0m\u001b[1;33m,\u001b[0m \u001b[0mZload\u001b[0m\u001b[1;33m,\u001b[0m \u001b[0mcosmat\u001b[0m\u001b[1;33m,\u001b[0m \u001b[0msinmat\u001b[0m \u001b[1;33m=\u001b[0m \u001b[0mdata_setup\u001b[0m\u001b[1;33m(\u001b[0m\u001b[0mfitdata\u001b[0m\u001b[1;33m,\u001b[0m \u001b[0mm\u001b[0m\u001b[1;33m,\u001b[0m \u001b[0mn\u001b[0m\u001b[1;33m,\u001b[0m \u001b[0mnfp\u001b[0m\u001b[1;33m)\u001b[0m\u001b[1;33m\u001b[0m\u001b[1;33m\u001b[0m\u001b[0m\n\u001b[0m",
      "\u001b[1;32m<ipython-input-19-b8247662396a>\u001b[0m in \u001b[0;36mdata_setup\u001b[1;34m(dataset, m, n, nfp)\u001b[0m\n\u001b[0;32m     36\u001b[0m     \u001b[0minds\u001b[0m \u001b[1;33m=\u001b[0m \u001b[0mnp\u001b[0m\u001b[1;33m.\u001b[0m\u001b[0mdiag_indices\u001b[0m\u001b[1;33m(\u001b[0m\u001b[1;33m(\u001b[0m\u001b[0mm\u001b[0m\u001b[1;33m+\u001b[0m\u001b[1;36m1\u001b[0m\u001b[1;33m)\u001b[0m\u001b[1;33m*\u001b[0m\u001b[1;33m(\u001b[0m\u001b[1;36m2\u001b[0m\u001b[1;33m*\u001b[0m\u001b[0mn\u001b[0m\u001b[1;33m+\u001b[0m\u001b[1;36m1\u001b[0m\u001b[1;33m)\u001b[0m\u001b[1;33m,\u001b[0m \u001b[0mndim\u001b[0m\u001b[1;33m=\u001b[0m\u001b[1;36m2\u001b[0m\u001b[1;33m)\u001b[0m\u001b[1;33m\u001b[0m\u001b[1;33m\u001b[0m\u001b[0m\n\u001b[0;32m     37\u001b[0m \u001b[1;33m\u001b[0m\u001b[0m\n\u001b[1;32m---> 38\u001b[1;33m     \u001b[0mRmatrix\u001b[0m\u001b[1;33m[\u001b[0m\u001b[0minds\u001b[0m\u001b[1;33m]\u001b[0m \u001b[1;33m=\u001b[0m \u001b[0mnp\u001b[0m\u001b[1;33m.\u001b[0m\u001b[0msum\u001b[0m\u001b[1;33m(\u001b[0m\u001b[0mcosmats\u001b[0m\u001b[1;33m**\u001b[0m\u001b[1;36m2\u001b[0m\u001b[1;33m,\u001b[0m \u001b[0maxis\u001b[0m \u001b[1;33m=\u001b[0m\u001b[1;36m1\u001b[0m\u001b[1;33m)\u001b[0m\u001b[1;33m\u001b[0m\u001b[1;33m\u001b[0m\u001b[0m\n\u001b[0m\u001b[0;32m     39\u001b[0m     \u001b[0mZmatrix\u001b[0m\u001b[1;33m[\u001b[0m\u001b[0minds\u001b[0m\u001b[1;33m]\u001b[0m \u001b[1;33m=\u001b[0m \u001b[0mnp\u001b[0m\u001b[1;33m.\u001b[0m\u001b[0msum\u001b[0m\u001b[1;33m(\u001b[0m\u001b[0msinmats\u001b[0m\u001b[1;33m**\u001b[0m\u001b[1;36m2\u001b[0m\u001b[1;33m,\u001b[0m \u001b[0maxis\u001b[0m \u001b[1;33m=\u001b[0m\u001b[1;36m1\u001b[0m\u001b[1;33m)\u001b[0m\u001b[1;33m\u001b[0m\u001b[1;33m\u001b[0m\u001b[0m\n\u001b[0;32m     40\u001b[0m \u001b[1;33m\u001b[0m\u001b[0m\n",
      "\u001b[1;31mIndexError\u001b[0m: too many indices for array: array is 1-dimensional, but 2 were indexed"
     ]
    }
   ],
   "source": [
    "Rmat, Zmat, Rload, Zload, cosmat, sinmat = data_setup(fitdata, m, n, nfp)"
   ]
  },
  {
   "cell_type": "code",
   "execution_count": 14,
   "metadata": {},
   "outputs": [],
   "source": [
    "rdata, phi, zdata, theta, *_ = fitdata"
   ]
  },
  {
   "cell_type": "code",
   "execution_count": 15,
   "metadata": {},
   "outputs": [
    {
     "data": {
      "text/plain": [
       "array([-0.02734796, -0.02734289, -0.02730252, ..., -0.04112589,\n",
       "       -0.04125896, -0.04130108])"
      ]
     },
     "execution_count": 15,
     "metadata": {},
     "output_type": "execute_result"
    }
   ],
   "source": [
    "rdata - np.einsum('ij,ijk->k', a, cosmat)"
   ]
  },
  {
   "cell_type": "code",
   "execution_count": 11,
   "metadata": {},
   "outputs": [],
   "source": [
    "a = Rload @ np.linalg.inv(Rmat)\n",
    "a = a.reshape(m+1, 2*n+1)"
   ]
  }
 ],
 "metadata": {
  "colab": {
   "authorship_tag": "ABX9TyPL0RtWR4TuGZPu3aNX8QP8",
   "collapsed_sections": [],
   "mount_file_id": "1s8z2f16htyKwHweCRsp5AybaA4jx3yu4",
   "name": "PyTorchstuff.ipynb",
   "provenance": []
  },
  "kernelspec": {
   "display_name": "Python 3",
   "language": "python",
   "name": "python3"
  },
  "language_info": {
   "codemirror_mode": {
    "name": "ipython",
    "version": 3
   },
   "file_extension": ".py",
   "mimetype": "text/x-python",
   "name": "python",
   "nbconvert_exporter": "python",
   "pygments_lexer": "ipython3",
   "version": "3.8.5"
  }
 },
 "nbformat": 4,
 "nbformat_minor": 4
}
