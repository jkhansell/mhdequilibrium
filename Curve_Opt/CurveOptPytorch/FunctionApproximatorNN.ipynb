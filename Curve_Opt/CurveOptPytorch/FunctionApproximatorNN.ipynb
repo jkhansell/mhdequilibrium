{
 "cells": [
  {
   "cell_type": "code",
   "execution_count": 1,
   "id": "e7723e58-5778-476c-a513-0053d71ac471",
   "metadata": {},
   "outputs": [],
   "source": [
    "import torch\n",
    "import numpy as np\n",
    "\n",
    "from torch import nn, optim\n",
    "from torch.nn import functional as F\n",
    "from torch.utils.data import TensorDataset, DataLoader\n",
    "\n",
    "from sklearn.model_selection import train_test_split"
   ]
  },
  {
   "cell_type": "code",
   "execution_count": 2,
   "id": "010b2501-08bc-4983-a218-9246c45a3247",
   "metadata": {},
   "outputs": [],
   "source": [
    "LR = 1e-6\n",
    "MAX_EPOCH = 50\n",
    "BATCH_SIZE = 512"
   ]
  },
  {
   "cell_type": "code",
   "execution_count": 3,
   "id": "c443e4fa-9398-4caa-ad1b-fb453a7e1264",
   "metadata": {},
   "outputs": [],
   "source": [
    "device = torch.device(\"cuda\") if torch.cuda.is_available() else torch.device(\"cpu\")"
   ]
  },
  {
   "cell_type": "code",
   "execution_count": 4,
   "id": "810a71be-2d4b-4533-be4e-1827932103a3",
   "metadata": {},
   "outputs": [],
   "source": [
    "class SineApproximator(nn.Module):\n",
    "    def __init__(self):\n",
    "        super(SineApproximator, self).__init__()\n",
    "        self.regressor = nn.Sequential(nn.Linear(1, 1024),\n",
    "                                       nn.ReLU(inplace=True),\n",
    "                                       nn.Linear(1024, 1024),\n",
    "                                       nn.ReLU(inplace=True),\n",
    "                                       nn.Linear(1024, 1))\n",
    "    def forward(self, x):\n",
    "        output = self.regressor(x)\n",
    "        return output\n"
   ]
  },
  {
   "cell_type": "code",
   "execution_count": 5,
   "id": "5139ecc6-8889-4849-8fe2-16ebb5f95955",
   "metadata": {},
   "outputs": [],
   "source": [
    "X = np.random.rand(4*10**5)*2*np.pi\n",
    "y = np.sin(X)\n",
    "\n",
    "X_train, X_val, y_train, y_val = map(torch.tensor, train_test_split(X, y, test_size=0.2))\n",
    "\n",
    "train_dataloader = DataLoader(TensorDataset(X_train.unsqueeze(1), \n",
    "                                            y_train.unsqueeze(1)), \n",
    "                              batch_size=BATCH_SIZE,\n",
    "                              pin_memory=True, \n",
    "                              shuffle=True)\n",
    "val_dataloader = DataLoader(TensorDataset(X_val.unsqueeze(1), \n",
    "                                          y_val.unsqueeze(1)), \n",
    "                            batch_size=BATCH_SIZE,\n",
    "                            pin_memory=True, \n",
    "                            shuffle=True)"
   ]
  },
  {
   "cell_type": "code",
   "execution_count": 6,
   "id": "0c55255a-13c0-401e-adf0-6e2f406c1dd4",
   "metadata": {},
   "outputs": [],
   "source": [
    "model = SineApproximator().to(device)\n",
    "optimizer = optim.Adam(model.parameters(), lr=LR)\n",
    "criterion = nn.MSELoss(reduction=\"mean\")"
   ]
  },
  {
   "cell_type": "code",
   "execution_count": null,
   "id": "77399ad3-0303-4d55-9b3b-125c27381ee3",
   "metadata": {},
   "outputs": [
    {
     "name": "stdout",
     "output_type": "stream",
     "text": [
      "epoch 1 / 50\n",
      "0.15118885\n",
      "epoch 2 / 50\n",
      "0.10762521\n",
      "epoch 3 / 50\n",
      "0.09278396\n",
      "epoch 4 / 50\n",
      "0.08650895\n",
      "epoch 5 / 50\n",
      "0.07574762\n",
      "epoch 6 / 50\n",
      "0.060834385\n",
      "epoch 7 / 50\n",
      "0.050784707\n",
      "epoch 8 / 50\n"
     ]
    }
   ],
   "source": [
    "# training loop\n",
    "train_loss_list = list()\n",
    "val_loss_list = list()\n",
    "for epoch in range(MAX_EPOCH):\n",
    "    print(\"epoch %d / %d\" % (epoch+1, MAX_EPOCH))\n",
    "    model.train()\n",
    "    # training loop\n",
    "    temp_loss_list = []\n",
    "    for X_train, y_train in train_dataloader:\n",
    "        X_train = X_train.type(torch.float32).to(device)\n",
    "        y_train = y_train.type(torch.float32).to(device)\n",
    "\n",
    "        optimizer.zero_grad()\n",
    "\n",
    "        score = model(X_train)\n",
    "        loss = criterion(input=score, target=y_train)\n",
    "        loss.backward()\n",
    "\n",
    "        optimizer.step()\n",
    "\n",
    "        temp_loss_list.append(loss.detach().cpu().numpy())\n",
    "    print(temp_loss_list[-1])"
   ]
  },
  {
   "cell_type": "code",
   "execution_count": null,
   "id": "5964eca7-d7d3-4ad5-80b0-c29eea28ca8d",
   "metadata": {},
   "outputs": [],
   "source": [
    "p = torch.linspace(0,2*np.pi, 40)\n",
    "p = p.unsqueeze(1)"
   ]
  },
  {
   "cell_type": "code",
   "execution_count": null,
   "id": "25bd0ec1-12e6-439b-85ff-a67682c05422",
   "metadata": {},
   "outputs": [],
   "source": [
    "px = model(p).detach().numpy()"
   ]
  },
  {
   "cell_type": "code",
   "execution_count": null,
   "id": "0c50e56b-2298-4bf6-a8e3-74f386a82a07",
   "metadata": {},
   "outputs": [],
   "source": [
    "import matplotlib.pyplot as plt"
   ]
  },
  {
   "cell_type": "code",
   "execution_count": null,
   "id": "b0091b96-2583-46d4-81a3-ab61ec20bc32",
   "metadata": {},
   "outputs": [],
   "source": [
    "plt.plot(p,px)"
   ]
  }
 ],
 "metadata": {
  "kernelspec": {
   "display_name": "Python 3",
   "language": "python",
   "name": "python3"
  },
  "language_info": {
   "codemirror_mode": {
    "name": "ipython",
    "version": 3
   },
   "file_extension": ".py",
   "mimetype": "text/x-python",
   "name": "python",
   "nbconvert_exporter": "python",
   "pygments_lexer": "ipython3",
   "version": "3.8.5"
  }
 },
 "nbformat": 4,
 "nbformat_minor": 5
}
